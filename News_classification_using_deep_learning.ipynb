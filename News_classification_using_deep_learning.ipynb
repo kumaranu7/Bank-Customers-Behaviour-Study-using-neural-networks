{
  "nbformat": 4,
  "nbformat_minor": 0,
  "metadata": {
    "colab": {
      "name": "News classification using deep learning",
      "provenance": [],
      "private_outputs": true,
      "collapsed_sections": [],
      "include_colab_link": true
    },
    "kernelspec": {
      "name": "python3",
      "display_name": "Python 3"
    },
    "accelerator": "TPU"
  },
  "cells": [
    {
      "cell_type": "markdown",
      "metadata": {
        "id": "view-in-github",
        "colab_type": "text"
      },
      "source": [
        "<a href=\"https://colab.research.google.com/github/kumaranu7/Bank-Customers-Behaviour-Study-using-neural-networks/blob/master/News_classification_using_deep_learning.ipynb\" target=\"_parent\"><img src=\"https://colab.research.google.com/assets/colab-badge.svg\" alt=\"Open In Colab\"/></a>"
      ]
    },
    {
      "cell_type": "code",
      "metadata": {
        "id": "VcGu2q9M-iSB",
        "colab_type": "code",
        "colab": {
          "base_uri": "https://localhost:8080/",
          "height": 122
        },
        "outputId": "11fffc58-13c6-413a-82b3-60973649596b"
      },
      "source": [
        "from google.colab import drive\n",
        "drive.mount('/content/drive')"
      ],
      "execution_count": 4,
      "outputs": [
        {
          "output_type": "stream",
          "text": [
            "Go to this URL in a browser: https://accounts.google.com/o/oauth2/auth?client_id=947318989803-6bn6qk8qdgf4n4g3pfee6491hc0brc4i.apps.googleusercontent.com&redirect_uri=urn%3aietf%3awg%3aoauth%3a2.0%3aoob&response_type=code&scope=email%20https%3a%2f%2fwww.googleapis.com%2fauth%2fdocs.test%20https%3a%2f%2fwww.googleapis.com%2fauth%2fdrive%20https%3a%2f%2fwww.googleapis.com%2fauth%2fdrive.photos.readonly%20https%3a%2f%2fwww.googleapis.com%2fauth%2fpeopleapi.readonly\n",
            "\n",
            "Enter your authorization code:\n",
            "··········\n",
            "Mounted at /content/drive\n"
          ],
          "name": "stdout"
        }
      ]
    },
    {
      "cell_type": "code",
      "metadata": {
        "id": "z33X9PzD_eEz",
        "colab_type": "code",
        "colab": {
          "base_uri": "https://localhost:8080/",
          "height": 80
        },
        "outputId": "5654ff3b-9018-4ee5-f059-c13ef7010dda"
      },
      "source": [
        "import pandas as pd\n",
        "import numpy as np\n",
        "import matplotlib.pyplot as plt\n",
        "plt.rcParams['figure.figsize'] = (6,6)\n",
        "\n",
        "from keras import backend as K\n",
        "from keras.engine.topology import Layer\n",
        "from keras import initializers, regularizers, constraints\n",
        "\n",
        "from keras.layers import Dense, Input, LSTM, Bidirectional, Activation, Conv1D, GRU, TimeDistributed\n",
        "from keras.layers import Dropout, Embedding, GlobalMaxPooling1D, MaxPooling1D, Add, Flatten, SpatialDropout1D\n",
        "from keras.layers import GlobalAveragePooling1D, BatchNormalization, concatenate\n",
        "from keras.layers import Reshape, merge, Concatenate, Lambda, Average\n",
        "from keras.models import Sequential, Model, load_model\n",
        "from keras.callbacks import ModelCheckpoint\n",
        "from keras.initializers import Constant\n",
        "from keras.layers.merge import add\n",
        "\n",
        "from keras.preprocessing import sequence\n",
        "from keras.preprocessing.text import Tokenizer, text_to_word_sequence\n",
        "from keras.utils import np_utils\n",
        "\n",
        "from sklearn.model_selection import train_test_split\n",
        "from sklearn.metrics import confusion_matrix"
      ],
      "execution_count": 5,
      "outputs": [
        {
          "output_type": "stream",
          "text": [
            "Using TensorFlow backend.\n"
          ],
          "name": "stderr"
        },
        {
          "output_type": "display_data",
          "data": {
            "text/html": [
              "<p style=\"color: red;\">\n",
              "The default version of TensorFlow in Colab will soon switch to TensorFlow 2.x.<br>\n",
              "We recommend you <a href=\"https://www.tensorflow.org/guide/migrate\" target=\"_blank\">upgrade</a> now \n",
              "or ensure your notebook will continue to use TensorFlow 1.x via the <code>%tensorflow_version 1.x</code> magic:\n",
              "<a href=\"https://colab.research.google.com/notebooks/tensorflow_version.ipynb\" target=\"_blank\">more info</a>.</p>\n"
            ],
            "text/plain": [
              "<IPython.core.display.HTML object>"
            ]
          },
          "metadata": {
            "tags": []
          }
        }
      ]
    },
    {
      "cell_type": "code",
      "metadata": {
        "id": "upB80-yk-i5o",
        "colab_type": "code",
        "colab": {
          "base_uri": "https://localhost:8080/",
          "height": 204
        },
        "outputId": "2c5726a4-79ee-4572-9e95-98830135de0c"
      },
      "source": [
        "df = pd.read_json('/content/drive/My Drive/Colab Notebooks/Projects/News_Category_Dataset.json/News_Category_Dataset.json', lines = True)\n",
        "df.head()"
      ],
      "execution_count": 6,
      "outputs": [
        {
          "output_type": "execute_result",
          "data": {
            "text/html": [
              "<div>\n",
              "<style scoped>\n",
              "    .dataframe tbody tr th:only-of-type {\n",
              "        vertical-align: middle;\n",
              "    }\n",
              "\n",
              "    .dataframe tbody tr th {\n",
              "        vertical-align: top;\n",
              "    }\n",
              "\n",
              "    .dataframe thead th {\n",
              "        text-align: right;\n",
              "    }\n",
              "</style>\n",
              "<table border=\"1\" class=\"dataframe\">\n",
              "  <thead>\n",
              "    <tr style=\"text-align: right;\">\n",
              "      <th></th>\n",
              "      <th>short_description</th>\n",
              "      <th>headline</th>\n",
              "      <th>date</th>\n",
              "      <th>link</th>\n",
              "      <th>authors</th>\n",
              "      <th>category</th>\n",
              "    </tr>\n",
              "  </thead>\n",
              "  <tbody>\n",
              "    <tr>\n",
              "      <th>0</th>\n",
              "      <td>She left her husband. He killed their children...</td>\n",
              "      <td>There Were 2 Mass Shootings In Texas Last Week...</td>\n",
              "      <td>2018-05-26</td>\n",
              "      <td>https://www.huffingtonpost.com/entry/texas-ama...</td>\n",
              "      <td>Melissa Jeltsen</td>\n",
              "      <td>CRIME</td>\n",
              "    </tr>\n",
              "    <tr>\n",
              "      <th>1</th>\n",
              "      <td>Of course it has a song.</td>\n",
              "      <td>Will Smith Joins Diplo And Nicky Jam For The 2...</td>\n",
              "      <td>2018-05-26</td>\n",
              "      <td>https://www.huffingtonpost.com/entry/will-smit...</td>\n",
              "      <td>Andy McDonald</td>\n",
              "      <td>ENTERTAINMENT</td>\n",
              "    </tr>\n",
              "    <tr>\n",
              "      <th>2</th>\n",
              "      <td>The actor and his longtime girlfriend Anna Ebe...</td>\n",
              "      <td>Hugh Grant Marries For The First Time At Age 57</td>\n",
              "      <td>2018-05-26</td>\n",
              "      <td>https://www.huffingtonpost.com/entry/hugh-gran...</td>\n",
              "      <td>Ron Dicker</td>\n",
              "      <td>ENTERTAINMENT</td>\n",
              "    </tr>\n",
              "    <tr>\n",
              "      <th>3</th>\n",
              "      <td>The actor gives Dems an ass-kicking for not fi...</td>\n",
              "      <td>Jim Carrey Blasts 'Castrato' Adam Schiff And D...</td>\n",
              "      <td>2018-05-26</td>\n",
              "      <td>https://www.huffingtonpost.com/entry/jim-carre...</td>\n",
              "      <td>Ron Dicker</td>\n",
              "      <td>ENTERTAINMENT</td>\n",
              "    </tr>\n",
              "    <tr>\n",
              "      <th>4</th>\n",
              "      <td>The \"Dietland\" actress said using the bags is ...</td>\n",
              "      <td>Julianna Margulies Uses Donald Trump Poop Bags...</td>\n",
              "      <td>2018-05-26</td>\n",
              "      <td>https://www.huffingtonpost.com/entry/julianna-...</td>\n",
              "      <td>Ron Dicker</td>\n",
              "      <td>ENTERTAINMENT</td>\n",
              "    </tr>\n",
              "  </tbody>\n",
              "</table>\n",
              "</div>"
            ],
            "text/plain": [
              "                                   short_description  ...       category\n",
              "0  She left her husband. He killed their children...  ...          CRIME\n",
              "1                           Of course it has a song.  ...  ENTERTAINMENT\n",
              "2  The actor and his longtime girlfriend Anna Ebe...  ...  ENTERTAINMENT\n",
              "3  The actor gives Dems an ass-kicking for not fi...  ...  ENTERTAINMENT\n",
              "4  The \"Dietland\" actress said using the bags is ...  ...  ENTERTAINMENT\n",
              "\n",
              "[5 rows x 6 columns]"
            ]
          },
          "metadata": {
            "tags": []
          },
          "execution_count": 6
        }
      ]
    },
    {
      "cell_type": "code",
      "metadata": {
        "id": "7YSSaUm5_b57",
        "colab_type": "code",
        "colab": {}
      },
      "source": [
        "df['text'] = df['short_description'] + ' ' + df['headline']"
      ],
      "execution_count": 0,
      "outputs": []
    },
    {
      "cell_type": "code",
      "metadata": {
        "id": "lVII0SVBJIvm",
        "colab_type": "code",
        "colab": {
          "base_uri": "https://localhost:8080/",
          "height": 111
        },
        "outputId": "49ab670d-99de-4e31-e503-09979bd31f25"
      },
      "source": [
        "df.head(2)"
      ],
      "execution_count": 8,
      "outputs": [
        {
          "output_type": "execute_result",
          "data": {
            "text/html": [
              "<div>\n",
              "<style scoped>\n",
              "    .dataframe tbody tr th:only-of-type {\n",
              "        vertical-align: middle;\n",
              "    }\n",
              "\n",
              "    .dataframe tbody tr th {\n",
              "        vertical-align: top;\n",
              "    }\n",
              "\n",
              "    .dataframe thead th {\n",
              "        text-align: right;\n",
              "    }\n",
              "</style>\n",
              "<table border=\"1\" class=\"dataframe\">\n",
              "  <thead>\n",
              "    <tr style=\"text-align: right;\">\n",
              "      <th></th>\n",
              "      <th>short_description</th>\n",
              "      <th>headline</th>\n",
              "      <th>date</th>\n",
              "      <th>link</th>\n",
              "      <th>authors</th>\n",
              "      <th>category</th>\n",
              "      <th>text</th>\n",
              "    </tr>\n",
              "  </thead>\n",
              "  <tbody>\n",
              "    <tr>\n",
              "      <th>0</th>\n",
              "      <td>She left her husband. He killed their children...</td>\n",
              "      <td>There Were 2 Mass Shootings In Texas Last Week...</td>\n",
              "      <td>2018-05-26</td>\n",
              "      <td>https://www.huffingtonpost.com/entry/texas-ama...</td>\n",
              "      <td>Melissa Jeltsen</td>\n",
              "      <td>CRIME</td>\n",
              "      <td>She left her husband. He killed their children...</td>\n",
              "    </tr>\n",
              "    <tr>\n",
              "      <th>1</th>\n",
              "      <td>Of course it has a song.</td>\n",
              "      <td>Will Smith Joins Diplo And Nicky Jam For The 2...</td>\n",
              "      <td>2018-05-26</td>\n",
              "      <td>https://www.huffingtonpost.com/entry/will-smit...</td>\n",
              "      <td>Andy McDonald</td>\n",
              "      <td>ENTERTAINMENT</td>\n",
              "      <td>Of course it has a song. Will Smith Joins Dipl...</td>\n",
              "    </tr>\n",
              "  </tbody>\n",
              "</table>\n",
              "</div>"
            ],
            "text/plain": [
              "                                   short_description  ...                                               text\n",
              "0  She left her husband. He killed their children...  ...  She left her husband. He killed their children...\n",
              "1                           Of course it has a song.  ...  Of course it has a song. Will Smith Joins Dipl...\n",
              "\n",
              "[2 rows x 7 columns]"
            ]
          },
          "metadata": {
            "tags": []
          },
          "execution_count": 8
        }
      ]
    },
    {
      "cell_type": "code",
      "metadata": {
        "id": "IevR2aXeJKSh",
        "colab_type": "code",
        "colab": {
          "base_uri": "https://localhost:8080/",
          "height": 34
        },
        "outputId": "ce6b0bb8-5e63-459f-b6f8-c8da41cdd486"
      },
      "source": [
        "categs = df.groupby('category')\n",
        "print('Total category:', categs.ngroups)"
      ],
      "execution_count": 9,
      "outputs": [
        {
          "output_type": "stream",
          "text": [
            "Total category: 31\n"
          ],
          "name": "stdout"
        }
      ]
    },
    {
      "cell_type": "code",
      "metadata": {
        "id": "2TZnpSbpWEeF",
        "colab_type": "code",
        "colab": {
          "base_uri": "https://localhost:8080/",
          "height": 578
        },
        "outputId": "1be64e0f-5c5f-4852-9d74-6a280b00b305"
      },
      "source": [
        "print(categs.size())"
      ],
      "execution_count": 10,
      "outputs": [
        {
          "output_type": "stream",
          "text": [
            "category\n",
            "ARTS               1509\n",
            "ARTS & CULTURE     1339\n",
            "BLACK VOICES       3858\n",
            "BUSINESS           4254\n",
            "COLLEGE            1144\n",
            "COMEDY             3971\n",
            "CRIME              2893\n",
            "EDUCATION          1004\n",
            "ENTERTAINMENT     14257\n",
            "FIFTY              1401\n",
            "GOOD NEWS          1398\n",
            "GREEN              2622\n",
            "HEALTHY LIVING     6694\n",
            "IMPACT             2602\n",
            "LATINO VOICES      1129\n",
            "MEDIA              2815\n",
            "PARENTS            3955\n",
            "POLITICS          32739\n",
            "QUEER VOICES       4995\n",
            "RELIGION           2556\n",
            "SCIENCE            1381\n",
            "SPORTS             4167\n",
            "STYLE              2254\n",
            "TASTE              2096\n",
            "TECH               1231\n",
            "THE WORLDPOST      3664\n",
            "TRAVEL             2145\n",
            "WEIRD NEWS         2670\n",
            "WOMEN              3490\n",
            "WORLD NEWS         2177\n",
            "WORLDPOST          2579\n",
            "dtype: int64\n"
          ],
          "name": "stdout"
        }
      ]
    },
    {
      "cell_type": "code",
      "metadata": {
        "id": "fH0Jy8pXWLDG",
        "colab_type": "code",
        "colab": {}
      },
      "source": [
        "df['category'] = df['category'].map(lambda x:'WORLDPOST' if x == 'THE WORLDPOST' else x)"
      ],
      "execution_count": 0,
      "outputs": []
    },
    {
      "cell_type": "code",
      "metadata": {
        "id": "JShTEQeSY0ug",
        "colab_type": "code",
        "colab": {
          "base_uri": "https://localhost:8080/",
          "height": 578
        },
        "outputId": "50f9ac0b-60fa-4001-ef80-268c781667f9"
      },
      "source": [
        "cate = df.groupby('category')\n",
        "print('Final categories:', cate.ngroups)\n",
        "print(cate.size())"
      ],
      "execution_count": 12,
      "outputs": [
        {
          "output_type": "stream",
          "text": [
            "Final categories: 30\n",
            "category\n",
            "ARTS               1509\n",
            "ARTS & CULTURE     1339\n",
            "BLACK VOICES       3858\n",
            "BUSINESS           4254\n",
            "COLLEGE            1144\n",
            "COMEDY             3971\n",
            "CRIME              2893\n",
            "EDUCATION          1004\n",
            "ENTERTAINMENT     14257\n",
            "FIFTY              1401\n",
            "GOOD NEWS          1398\n",
            "GREEN              2622\n",
            "HEALTHY LIVING     6694\n",
            "IMPACT             2602\n",
            "LATINO VOICES      1129\n",
            "MEDIA              2815\n",
            "PARENTS            3955\n",
            "POLITICS          32739\n",
            "QUEER VOICES       4995\n",
            "RELIGION           2556\n",
            "SCIENCE            1381\n",
            "SPORTS             4167\n",
            "STYLE              2254\n",
            "TASTE              2096\n",
            "TECH               1231\n",
            "TRAVEL             2145\n",
            "WEIRD NEWS         2670\n",
            "WOMEN              3490\n",
            "WORLD NEWS         2177\n",
            "WORLDPOST          6243\n",
            "dtype: int64\n"
          ],
          "name": "stdout"
        }
      ]
    },
    {
      "cell_type": "code",
      "metadata": {
        "id": "W6sNOWwhZaYm",
        "colab_type": "code",
        "colab": {}
      },
      "source": [
        "tokenizer = Tokenizer()\n",
        "tokenizer.fit_on_texts(df['text'])\n",
        "X = tokenizer.texts_to_sequences(df['text'])\n",
        "df['words'] = X"
      ],
      "execution_count": 0,
      "outputs": []
    },
    {
      "cell_type": "code",
      "metadata": {
        "id": "MPqX4cSZax29",
        "colab_type": "code",
        "colab": {
          "base_uri": "https://localhost:8080/",
          "height": 145
        },
        "outputId": "5760d865-614f-4a07-8e83-c7edad4b13f6"
      },
      "source": [
        "df.head(2)"
      ],
      "execution_count": 14,
      "outputs": [
        {
          "output_type": "execute_result",
          "data": {
            "text/html": [
              "<div>\n",
              "<style scoped>\n",
              "    .dataframe tbody tr th:only-of-type {\n",
              "        vertical-align: middle;\n",
              "    }\n",
              "\n",
              "    .dataframe tbody tr th {\n",
              "        vertical-align: top;\n",
              "    }\n",
              "\n",
              "    .dataframe thead th {\n",
              "        text-align: right;\n",
              "    }\n",
              "</style>\n",
              "<table border=\"1\" class=\"dataframe\">\n",
              "  <thead>\n",
              "    <tr style=\"text-align: right;\">\n",
              "      <th></th>\n",
              "      <th>short_description</th>\n",
              "      <th>headline</th>\n",
              "      <th>date</th>\n",
              "      <th>link</th>\n",
              "      <th>authors</th>\n",
              "      <th>category</th>\n",
              "      <th>text</th>\n",
              "      <th>words</th>\n",
              "    </tr>\n",
              "  </thead>\n",
              "  <tbody>\n",
              "    <tr>\n",
              "      <th>0</th>\n",
              "      <td>She left her husband. He killed their children...</td>\n",
              "      <td>There Were 2 Mass Shootings In Texas Last Week...</td>\n",
              "      <td>2018-05-26</td>\n",
              "      <td>https://www.huffingtonpost.com/entry/texas-ama...</td>\n",
              "      <td>Melissa Jeltsen</td>\n",
              "      <td>CRIME</td>\n",
              "      <td>She left her husband. He killed their children...</td>\n",
              "      <td>[89, 424, 50, 1003, 38, 323, 44, 202, 51, 185,...</td>\n",
              "    </tr>\n",
              "    <tr>\n",
              "      <th>1</th>\n",
              "      <td>Of course it has a song.</td>\n",
              "      <td>Will Smith Joins Diplo And Nicky Jam For The 2...</td>\n",
              "      <td>2018-05-26</td>\n",
              "      <td>https://www.huffingtonpost.com/entry/will-smit...</td>\n",
              "      <td>Andy McDonald</td>\n",
              "      <td>ENTERTAINMENT</td>\n",
              "      <td>Of course it has a song. Will Smith Joins Dipl...</td>\n",
              "      <td>[4, 758, 12, 31, 3, 926, 34, 1516, 2197, 20046...</td>\n",
              "    </tr>\n",
              "  </tbody>\n",
              "</table>\n",
              "</div>"
            ],
            "text/plain": [
              "                                   short_description  ...                                              words\n",
              "0  She left her husband. He killed their children...  ...  [89, 424, 50, 1003, 38, 323, 44, 202, 51, 185,...\n",
              "1                           Of course it has a song.  ...  [4, 758, 12, 31, 3, 926, 34, 1516, 2197, 20046...\n",
              "\n",
              "[2 rows x 8 columns]"
            ]
          },
          "metadata": {
            "tags": []
          },
          "execution_count": 14
        }
      ]
    },
    {
      "cell_type": "code",
      "metadata": {
        "id": "g28A-Ef-a3nd",
        "colab_type": "code",
        "colab": {}
      },
      "source": [
        "#delete empty and short data"
      ],
      "execution_count": 0,
      "outputs": []
    },
    {
      "cell_type": "code",
      "metadata": {
        "id": "xEF5ppeBhJ7T",
        "colab_type": "code",
        "colab": {
          "base_uri": "https://localhost:8080/",
          "height": 193
        },
        "outputId": "d3ab55f9-0f9f-4a2f-ae09-9a5da02f2903"
      },
      "source": [
        "df['word_len'] = df.words.apply(lambda i:len(i))\n",
        "df = df[df.word_len >= 5]\n",
        "\n",
        "df.head(3)"
      ],
      "execution_count": 16,
      "outputs": [
        {
          "output_type": "execute_result",
          "data": {
            "text/html": [
              "<div>\n",
              "<style scoped>\n",
              "    .dataframe tbody tr th:only-of-type {\n",
              "        vertical-align: middle;\n",
              "    }\n",
              "\n",
              "    .dataframe tbody tr th {\n",
              "        vertical-align: top;\n",
              "    }\n",
              "\n",
              "    .dataframe thead th {\n",
              "        text-align: right;\n",
              "    }\n",
              "</style>\n",
              "<table border=\"1\" class=\"dataframe\">\n",
              "  <thead>\n",
              "    <tr style=\"text-align: right;\">\n",
              "      <th></th>\n",
              "      <th>short_description</th>\n",
              "      <th>headline</th>\n",
              "      <th>date</th>\n",
              "      <th>link</th>\n",
              "      <th>authors</th>\n",
              "      <th>category</th>\n",
              "      <th>text</th>\n",
              "      <th>words</th>\n",
              "      <th>word_len</th>\n",
              "    </tr>\n",
              "  </thead>\n",
              "  <tbody>\n",
              "    <tr>\n",
              "      <th>0</th>\n",
              "      <td>She left her husband. He killed their children...</td>\n",
              "      <td>There Were 2 Mass Shootings In Texas Last Week...</td>\n",
              "      <td>2018-05-26</td>\n",
              "      <td>https://www.huffingtonpost.com/entry/texas-ama...</td>\n",
              "      <td>Melissa Jeltsen</td>\n",
              "      <td>CRIME</td>\n",
              "      <td>She left her husband. He killed their children...</td>\n",
              "      <td>[89, 424, 50, 1003, 38, 323, 44, 202, 51, 185,...</td>\n",
              "      <td>27</td>\n",
              "    </tr>\n",
              "    <tr>\n",
              "      <th>1</th>\n",
              "      <td>Of course it has a song.</td>\n",
              "      <td>Will Smith Joins Diplo And Nicky Jam For The 2...</td>\n",
              "      <td>2018-05-26</td>\n",
              "      <td>https://www.huffingtonpost.com/entry/will-smit...</td>\n",
              "      <td>Andy McDonald</td>\n",
              "      <td>ENTERTAINMENT</td>\n",
              "      <td>Of course it has a song. Will Smith Joins Dipl...</td>\n",
              "      <td>[4, 758, 12, 31, 3, 926, 34, 1516, 2197, 20046...</td>\n",
              "      <td>20</td>\n",
              "    </tr>\n",
              "    <tr>\n",
              "      <th>2</th>\n",
              "      <td>The actor and his longtime girlfriend Anna Ebe...</td>\n",
              "      <td>Hugh Grant Marries For The First Time At Age 57</td>\n",
              "      <td>2018-05-26</td>\n",
              "      <td>https://www.huffingtonpost.com/entry/hugh-gran...</td>\n",
              "      <td>Ron Dicker</td>\n",
              "      <td>ENTERTAINMENT</td>\n",
              "      <td>The actor and his longtime girlfriend Anna Ebe...</td>\n",
              "      <td>[1, 670, 5, 28, 4258, 2641, 3983, 47693, 2789,...</td>\n",
              "      <td>25</td>\n",
              "    </tr>\n",
              "  </tbody>\n",
              "</table>\n",
              "</div>"
            ],
            "text/plain": [
              "                                   short_description  ... word_len\n",
              "0  She left her husband. He killed their children...  ...       27\n",
              "1                           Of course it has a song.  ...       20\n",
              "2  The actor and his longtime girlfriend Anna Ebe...  ...       25\n",
              "\n",
              "[3 rows x 9 columns]"
            ]
          },
          "metadata": {
            "tags": []
          },
          "execution_count": 16
        }
      ]
    },
    {
      "cell_type": "code",
      "metadata": {
        "id": "S_-KoWsEiLUD",
        "colab_type": "code",
        "colab": {}
      },
      "source": [
        "#now use for padding"
      ],
      "execution_count": 0,
      "outputs": []
    },
    {
      "cell_type": "code",
      "metadata": {
        "id": "83Cfj9wHkvr9",
        "colab_type": "code",
        "colab": {
          "base_uri": "https://localhost:8080/",
          "height": 297
        },
        "outputId": "0afc0e42-857e-4c99-8db4-2cdd64bf5ad6"
      },
      "source": [
        "df.describe()"
      ],
      "execution_count": 18,
      "outputs": [
        {
          "output_type": "execute_result",
          "data": {
            "text/html": [
              "<div>\n",
              "<style scoped>\n",
              "    .dataframe tbody tr th:only-of-type {\n",
              "        vertical-align: middle;\n",
              "    }\n",
              "\n",
              "    .dataframe tbody tr th {\n",
              "        vertical-align: top;\n",
              "    }\n",
              "\n",
              "    .dataframe thead th {\n",
              "        text-align: right;\n",
              "    }\n",
              "</style>\n",
              "<table border=\"1\" class=\"dataframe\">\n",
              "  <thead>\n",
              "    <tr style=\"text-align: right;\">\n",
              "      <th></th>\n",
              "      <th>word_len</th>\n",
              "    </tr>\n",
              "  </thead>\n",
              "  <tbody>\n",
              "    <tr>\n",
              "      <th>count</th>\n",
              "      <td>124068.000000</td>\n",
              "    </tr>\n",
              "    <tr>\n",
              "      <th>mean</th>\n",
              "      <td>26.128422</td>\n",
              "    </tr>\n",
              "    <tr>\n",
              "      <th>std</th>\n",
              "      <td>14.366390</td>\n",
              "    </tr>\n",
              "    <tr>\n",
              "      <th>min</th>\n",
              "      <td>5.000000</td>\n",
              "    </tr>\n",
              "    <tr>\n",
              "      <th>25%</th>\n",
              "      <td>17.000000</td>\n",
              "    </tr>\n",
              "    <tr>\n",
              "      <th>50%</th>\n",
              "      <td>24.000000</td>\n",
              "    </tr>\n",
              "    <tr>\n",
              "      <th>75%</th>\n",
              "      <td>32.000000</td>\n",
              "    </tr>\n",
              "    <tr>\n",
              "      <th>max</th>\n",
              "      <td>248.000000</td>\n",
              "    </tr>\n",
              "  </tbody>\n",
              "</table>\n",
              "</div>"
            ],
            "text/plain": [
              "            word_len\n",
              "count  124068.000000\n",
              "mean       26.128422\n",
              "std        14.366390\n",
              "min         5.000000\n",
              "25%        17.000000\n",
              "50%        24.000000\n",
              "75%        32.000000\n",
              "max       248.000000"
            ]
          },
          "metadata": {
            "tags": []
          },
          "execution_count": 18
        }
      ]
    },
    {
      "cell_type": "code",
      "metadata": {
        "id": "bt4k1fV7kxoO",
        "colab_type": "code",
        "colab": {}
      },
      "source": [
        "maxlen = 50\n",
        "X = list(sequence.pad_sequences(df.words, maxlen=maxlen))"
      ],
      "execution_count": 0,
      "outputs": []
    },
    {
      "cell_type": "code",
      "metadata": {
        "id": "Wfq3CMUPlL9B",
        "colab_type": "code",
        "colab": {}
      },
      "source": [
        " #handling category for words\n"
      ],
      "execution_count": 0,
      "outputs": []
    },
    {
      "cell_type": "code",
      "metadata": {
        "id": "hMWrKzCnmSq1",
        "colab_type": "code",
        "colab": {
          "base_uri": "https://localhost:8080/",
          "height": 102
        },
        "outputId": "2040f72a-3ae6-47c6-a3b2-03e019b0e500"
      },
      "source": [
        "df['category'].describe()"
      ],
      "execution_count": 20,
      "outputs": [
        {
          "output_type": "execute_result",
          "data": {
            "text/plain": [
              "count       124068\n",
              "unique          30\n",
              "top       POLITICS\n",
              "freq         32630\n",
              "Name: category, dtype: object"
            ]
          },
          "metadata": {
            "tags": []
          },
          "execution_count": 20
        }
      ]
    },
    {
      "cell_type": "code",
      "metadata": {
        "id": "W8eh_U4ymdyz",
        "colab_type": "code",
        "colab": {
          "base_uri": "https://localhost:8080/",
          "height": 119
        },
        "outputId": "1b99c3c1-364e-47ec-f1da-f021fd2366bd"
      },
      "source": [
        "categories = df.groupby('category').size().index.tolist()\n",
        "cat_int = {}\n",
        "int_cat = {}\n",
        "for i, k in enumerate(categories):\n",
        "  cat_int.update({k:i})\n",
        "  int_cat.update({i:k})\n",
        "df['c2id'] = df['category'].apply(lambda x:cat_int[x])"
      ],
      "execution_count": 21,
      "outputs": [
        {
          "output_type": "stream",
          "text": [
            "/usr/local/lib/python3.6/dist-packages/ipykernel_launcher.py:7: SettingWithCopyWarning: \n",
            "A value is trying to be set on a copy of a slice from a DataFrame.\n",
            "Try using .loc[row_indexer,col_indexer] = value instead\n",
            "\n",
            "See the caveats in the documentation: http://pandas.pydata.org/pandas-docs/stable/user_guide/indexing.html#returning-a-view-versus-a-copy\n",
            "  import sys\n"
          ],
          "name": "stderr"
        }
      ]
    },
    {
      "cell_type": "code",
      "metadata": {
        "id": "M7R9JwqBovJ0",
        "colab_type": "code",
        "colab": {
          "base_uri": "https://localhost:8080/",
          "height": 193
        },
        "outputId": "8dfe970b-76d9-4fe9-ef9a-01973dfd2aa8"
      },
      "source": [
        "df.head(3)"
      ],
      "execution_count": 22,
      "outputs": [
        {
          "output_type": "execute_result",
          "data": {
            "text/html": [
              "<div>\n",
              "<style scoped>\n",
              "    .dataframe tbody tr th:only-of-type {\n",
              "        vertical-align: middle;\n",
              "    }\n",
              "\n",
              "    .dataframe tbody tr th {\n",
              "        vertical-align: top;\n",
              "    }\n",
              "\n",
              "    .dataframe thead th {\n",
              "        text-align: right;\n",
              "    }\n",
              "</style>\n",
              "<table border=\"1\" class=\"dataframe\">\n",
              "  <thead>\n",
              "    <tr style=\"text-align: right;\">\n",
              "      <th></th>\n",
              "      <th>short_description</th>\n",
              "      <th>headline</th>\n",
              "      <th>date</th>\n",
              "      <th>link</th>\n",
              "      <th>authors</th>\n",
              "      <th>category</th>\n",
              "      <th>text</th>\n",
              "      <th>words</th>\n",
              "      <th>word_len</th>\n",
              "      <th>c2id</th>\n",
              "    </tr>\n",
              "  </thead>\n",
              "  <tbody>\n",
              "    <tr>\n",
              "      <th>0</th>\n",
              "      <td>She left her husband. He killed their children...</td>\n",
              "      <td>There Were 2 Mass Shootings In Texas Last Week...</td>\n",
              "      <td>2018-05-26</td>\n",
              "      <td>https://www.huffingtonpost.com/entry/texas-ama...</td>\n",
              "      <td>Melissa Jeltsen</td>\n",
              "      <td>CRIME</td>\n",
              "      <td>She left her husband. He killed their children...</td>\n",
              "      <td>[89, 424, 50, 1003, 38, 323, 44, 202, 51, 185,...</td>\n",
              "      <td>27</td>\n",
              "      <td>6</td>\n",
              "    </tr>\n",
              "    <tr>\n",
              "      <th>1</th>\n",
              "      <td>Of course it has a song.</td>\n",
              "      <td>Will Smith Joins Diplo And Nicky Jam For The 2...</td>\n",
              "      <td>2018-05-26</td>\n",
              "      <td>https://www.huffingtonpost.com/entry/will-smit...</td>\n",
              "      <td>Andy McDonald</td>\n",
              "      <td>ENTERTAINMENT</td>\n",
              "      <td>Of course it has a song. Will Smith Joins Dipl...</td>\n",
              "      <td>[4, 758, 12, 31, 3, 926, 34, 1516, 2197, 20046...</td>\n",
              "      <td>20</td>\n",
              "      <td>8</td>\n",
              "    </tr>\n",
              "    <tr>\n",
              "      <th>2</th>\n",
              "      <td>The actor and his longtime girlfriend Anna Ebe...</td>\n",
              "      <td>Hugh Grant Marries For The First Time At Age 57</td>\n",
              "      <td>2018-05-26</td>\n",
              "      <td>https://www.huffingtonpost.com/entry/hugh-gran...</td>\n",
              "      <td>Ron Dicker</td>\n",
              "      <td>ENTERTAINMENT</td>\n",
              "      <td>The actor and his longtime girlfriend Anna Ebe...</td>\n",
              "      <td>[1, 670, 5, 28, 4258, 2641, 3983, 47693, 2789,...</td>\n",
              "      <td>25</td>\n",
              "      <td>8</td>\n",
              "    </tr>\n",
              "  </tbody>\n",
              "</table>\n",
              "</div>"
            ],
            "text/plain": [
              "                                   short_description  ... c2id\n",
              "0  She left her husband. He killed their children...  ...    6\n",
              "1                           Of course it has a song.  ...    8\n",
              "2  The actor and his longtime girlfriend Anna Ebe...  ...    8\n",
              "\n",
              "[3 rows x 10 columns]"
            ]
          },
          "metadata": {
            "tags": []
          },
          "execution_count": 22
        }
      ]
    },
    {
      "cell_type": "code",
      "metadata": {
        "id": "pHwMXCBp8lRM",
        "colab_type": "code",
        "colab": {}
      },
      "source": [
        "#word embedding"
      ],
      "execution_count": 0,
      "outputs": []
    },
    {
      "cell_type": "code",
      "metadata": {
        "id": "wjAt_LeloxX2",
        "colab_type": "code",
        "colab": {
          "base_uri": "https://localhost:8080/",
          "height": 51
        },
        "outputId": "f337a9f3-18b8-42df-8651-9acd7331b09b"
      },
      "source": [
        "word_index = tokenizer.word_index\n",
        "EMBEDDING_DIM = 100\n",
        "embedding_index = {}\n",
        "\n",
        "f = open('/content/drive/My Drive/Colab Notebooks/Projects/News_Category_Dataset.json/glove.6B.100d.txt/glove.6B.100d.txt') #performing transfer learning\n",
        "for line in f:\n",
        "  values = line.split()\n",
        "  words = values[0]\n",
        "  coefs = np.asarray(values[1:], dtype = 'float32')\n",
        "  embedding_index[words] = coefs\n",
        "f.close()\n",
        "\n",
        "print('Found %s unique tokens.' %len(word_index))\n",
        "print('Found %s total word vectors.' %len(embedding_index))"
      ],
      "execution_count": 24,
      "outputs": [
        {
          "output_type": "stream",
          "text": [
            "Found 86627 unique tokens.\n",
            "Found 400000 total word vectors.\n"
          ],
          "name": "stdout"
        }
      ]
    },
    {
      "cell_type": "code",
      "metadata": {
        "id": "EpRENfrB0k58",
        "colab_type": "code",
        "colab": {
          "base_uri": "https://localhost:8080/",
          "height": 51
        },
        "outputId": "b9514531-8aa0-474b-bf75-47a67f9a3ff8"
      },
      "source": [
        "embedding_matrix = np.zeros((len(word_index) + 1, EMBEDDING_DIM))\n",
        "\n",
        "for word, i in  word_index.items():\n",
        "  embedding_vector = embedding_index.get(word)\n",
        "  if embedding_vector is not None:\n",
        "    embedding_matrix[i] = embedding_vector\n",
        "\n",
        "embedding_layer = Embedding(len(word_index) + 1, EMBEDDING_DIM, embeddings_initializer=Constant(embedding_matrix), input_length=maxlen, trainable = False)"
      ],
      "execution_count": 25,
      "outputs": [
        {
          "output_type": "stream",
          "text": [
            "WARNING:tensorflow:From /usr/local/lib/python3.6/dist-packages/keras/backend/tensorflow_backend.py:66: The name tf.get_default_graph is deprecated. Please use tf.compat.v1.get_default_graph instead.\n",
            "\n"
          ],
          "name": "stdout"
        }
      ]
    },
    {
      "cell_type": "code",
      "metadata": {
        "id": "Df007tjkBycP",
        "colab_type": "code",
        "colab": {}
      },
      "source": [
        "X = np.array(X)\n",
        "Y = np_utils.to_categorical(list(df.c2id))\n",
        "seed = 29\n",
        "X_train, X_val, Y_train, Y_val = train_test_split(X, Y, test_size = 0.2, random_state = seed)"
      ],
      "execution_count": 0,
      "outputs": []
    },
    {
      "cell_type": "code",
      "metadata": {
        "id": "ksRL5zhmBsWh",
        "colab_type": "code",
        "colab": {}
      },
      "source": [
        "#textCNN\n"
      ],
      "execution_count": 0,
      "outputs": []
    },
    {
      "cell_type": "code",
      "metadata": {
        "id": "aVx3quu2mLId",
        "colab_type": "code",
        "colab": {
          "base_uri": "https://localhost:8080/",
          "height": 952
        },
        "outputId": "15580d54-a14f-41d4-ce85-df2304a6e6da"
      },
      "source": [
        "inp = Input(shape=(maxlen, ), dtype = 'int32')\n",
        "embedding = embedding_layer(inp)\n",
        "stacks = []\n",
        "for kernel_size in [2,3,4]:\n",
        "  conv = Conv1D(64, kernel_size, padding = 'same', activation='relu', strides= 1)(embedding)\n",
        "  pool = MaxPooling1D(pool_size=3)(conv)\n",
        "  drop = Dropout(0.5)(pool)\n",
        "  stacks.append(drop)\n",
        "\n",
        "merged = Concatenate()(stacks)\n",
        "flatten = Flatten()(merged)\n",
        "drop = Dropout(0.5)(flatten)\n",
        "outp = Dense(len(int_cat), activation='softmax')(drop)\n",
        "\n",
        "TextCNN = Model(inputs = inp, outputs = outp)\n",
        "TextCNN.compile(loss = 'categorical_crossentropy', optimizer = 'adam', metrics = ['accuracy'])\n",
        "\n",
        "TextCNN.summary()\n"
      ],
      "execution_count": 27,
      "outputs": [
        {
          "output_type": "stream",
          "text": [
            "WARNING:tensorflow:From /usr/local/lib/python3.6/dist-packages/keras/backend/tensorflow_backend.py:541: The name tf.placeholder is deprecated. Please use tf.compat.v1.placeholder instead.\n",
            "\n",
            "WARNING:tensorflow:From /usr/local/lib/python3.6/dist-packages/keras/backend/tensorflow_backend.py:4432: The name tf.random_uniform is deprecated. Please use tf.random.uniform instead.\n",
            "\n",
            "WARNING:tensorflow:From /usr/local/lib/python3.6/dist-packages/keras/backend/tensorflow_backend.py:4267: The name tf.nn.max_pool is deprecated. Please use tf.nn.max_pool2d instead.\n",
            "\n",
            "WARNING:tensorflow:From /usr/local/lib/python3.6/dist-packages/keras/backend/tensorflow_backend.py:148: The name tf.placeholder_with_default is deprecated. Please use tf.compat.v1.placeholder_with_default instead.\n",
            "\n",
            "WARNING:tensorflow:From /usr/local/lib/python3.6/dist-packages/keras/backend/tensorflow_backend.py:3733: calling dropout (from tensorflow.python.ops.nn_ops) with keep_prob is deprecated and will be removed in a future version.\n",
            "Instructions for updating:\n",
            "Please use `rate` instead of `keep_prob`. Rate should be set to `rate = 1 - keep_prob`.\n",
            "WARNING:tensorflow:From /usr/local/lib/python3.6/dist-packages/keras/optimizers.py:793: The name tf.train.Optimizer is deprecated. Please use tf.compat.v1.train.Optimizer instead.\n",
            "\n",
            "WARNING:tensorflow:From /usr/local/lib/python3.6/dist-packages/keras/backend/tensorflow_backend.py:3576: The name tf.log is deprecated. Please use tf.math.log instead.\n",
            "\n",
            "Model: \"model_1\"\n",
            "__________________________________________________________________________________________________\n",
            "Layer (type)                    Output Shape         Param #     Connected to                     \n",
            "==================================================================================================\n",
            "input_1 (InputLayer)            (None, 50)           0                                            \n",
            "__________________________________________________________________________________________________\n",
            "embedding_1 (Embedding)         (None, 50, 100)      8662800     input_1[0][0]                    \n",
            "__________________________________________________________________________________________________\n",
            "conv1d_1 (Conv1D)               (None, 50, 64)       12864       embedding_1[0][0]                \n",
            "__________________________________________________________________________________________________\n",
            "conv1d_2 (Conv1D)               (None, 50, 64)       19264       embedding_1[0][0]                \n",
            "__________________________________________________________________________________________________\n",
            "conv1d_3 (Conv1D)               (None, 50, 64)       25664       embedding_1[0][0]                \n",
            "__________________________________________________________________________________________________\n",
            "max_pooling1d_1 (MaxPooling1D)  (None, 16, 64)       0           conv1d_1[0][0]                   \n",
            "__________________________________________________________________________________________________\n",
            "max_pooling1d_2 (MaxPooling1D)  (None, 16, 64)       0           conv1d_2[0][0]                   \n",
            "__________________________________________________________________________________________________\n",
            "max_pooling1d_3 (MaxPooling1D)  (None, 16, 64)       0           conv1d_3[0][0]                   \n",
            "__________________________________________________________________________________________________\n",
            "dropout_1 (Dropout)             (None, 16, 64)       0           max_pooling1d_1[0][0]            \n",
            "__________________________________________________________________________________________________\n",
            "dropout_2 (Dropout)             (None, 16, 64)       0           max_pooling1d_2[0][0]            \n",
            "__________________________________________________________________________________________________\n",
            "dropout_3 (Dropout)             (None, 16, 64)       0           max_pooling1d_3[0][0]            \n",
            "__________________________________________________________________________________________________\n",
            "concatenate_1 (Concatenate)     (None, 16, 192)      0           dropout_1[0][0]                  \n",
            "                                                                 dropout_2[0][0]                  \n",
            "                                                                 dropout_3[0][0]                  \n",
            "__________________________________________________________________________________________________\n",
            "flatten_1 (Flatten)             (None, 3072)         0           concatenate_1[0][0]              \n",
            "__________________________________________________________________________________________________\n",
            "dropout_4 (Dropout)             (None, 3072)         0           flatten_1[0][0]                  \n",
            "__________________________________________________________________________________________________\n",
            "dense_1 (Dense)                 (None, 30)           92190       dropout_4[0][0]                  \n",
            "==================================================================================================\n",
            "Total params: 8,812,782\n",
            "Trainable params: 149,982\n",
            "Non-trainable params: 8,662,800\n",
            "__________________________________________________________________________________________________\n"
          ],
          "name": "stdout"
        }
      ]
    },
    {
      "cell_type": "code",
      "metadata": {
        "id": "p6gACn3PqCNL",
        "colab_type": "code",
        "colab": {
          "base_uri": "https://localhost:8080/",
          "height": 1000
        },
        "outputId": "55c36952-fb14-4420-fab0-c0b6e0086600"
      },
      "source": [
        "textcnn_hist = TextCNN.fit(X_train, Y_train, batch_size=128, epochs=20, validation_data=(X_val, Y_val))"
      ],
      "execution_count": 28,
      "outputs": [
        {
          "output_type": "stream",
          "text": [
            "WARNING:tensorflow:From /usr/local/lib/python3.6/dist-packages/tensorflow_core/python/ops/math_grad.py:1424: where (from tensorflow.python.ops.array_ops) is deprecated and will be removed in a future version.\n",
            "Instructions for updating:\n",
            "Use tf.where in 2.0, which has the same broadcast rule as np.where\n",
            "WARNING:tensorflow:From /usr/local/lib/python3.6/dist-packages/keras/backend/tensorflow_backend.py:1033: The name tf.assign_add is deprecated. Please use tf.compat.v1.assign_add instead.\n",
            "\n",
            "WARNING:tensorflow:From /usr/local/lib/python3.6/dist-packages/keras/backend/tensorflow_backend.py:1020: The name tf.assign is deprecated. Please use tf.compat.v1.assign instead.\n",
            "\n",
            "WARNING:tensorflow:From /usr/local/lib/python3.6/dist-packages/keras/backend/tensorflow_backend.py:3005: The name tf.Session is deprecated. Please use tf.compat.v1.Session instead.\n",
            "\n",
            "Train on 99254 samples, validate on 24814 samples\n",
            "Epoch 1/20\n",
            "WARNING:tensorflow:From /usr/local/lib/python3.6/dist-packages/keras/backend/tensorflow_backend.py:190: The name tf.get_default_session is deprecated. Please use tf.compat.v1.get_default_session instead.\n",
            "\n",
            "WARNING:tensorflow:From /usr/local/lib/python3.6/dist-packages/keras/backend/tensorflow_backend.py:197: The name tf.ConfigProto is deprecated. Please use tf.compat.v1.ConfigProto instead.\n",
            "\n",
            "WARNING:tensorflow:From /usr/local/lib/python3.6/dist-packages/keras/backend/tensorflow_backend.py:207: The name tf.global_variables is deprecated. Please use tf.compat.v1.global_variables instead.\n",
            "\n",
            "WARNING:tensorflow:From /usr/local/lib/python3.6/dist-packages/keras/backend/tensorflow_backend.py:216: The name tf.is_variable_initialized is deprecated. Please use tf.compat.v1.is_variable_initialized instead.\n",
            "\n",
            "WARNING:tensorflow:From /usr/local/lib/python3.6/dist-packages/keras/backend/tensorflow_backend.py:223: The name tf.variables_initializer is deprecated. Please use tf.compat.v1.variables_initializer instead.\n",
            "\n",
            "99254/99254 [==============================] - 62s 627us/step - loss: 2.1712 - acc: 0.4160 - val_loss: 1.6902 - val_acc: 0.5299\n",
            "Epoch 2/20\n",
            "99254/99254 [==============================] - 61s 617us/step - loss: 1.8008 - acc: 0.5000 - val_loss: 1.5857 - val_acc: 0.5521\n",
            "Epoch 3/20\n",
            "99254/99254 [==============================] - 60s 608us/step - loss: 1.7222 - acc: 0.5180 - val_loss: 1.5421 - val_acc: 0.5624\n",
            "Epoch 4/20\n",
            "99254/99254 [==============================] - 61s 614us/step - loss: 1.6833 - acc: 0.5272 - val_loss: 1.5235 - val_acc: 0.5710\n",
            "Epoch 5/20\n",
            "99254/99254 [==============================] - 61s 618us/step - loss: 1.6561 - acc: 0.5348 - val_loss: 1.5090 - val_acc: 0.5742\n",
            "Epoch 6/20\n",
            "99254/99254 [==============================] - 62s 620us/step - loss: 1.6363 - acc: 0.5398 - val_loss: 1.4905 - val_acc: 0.5770\n",
            "Epoch 7/20\n",
            "99254/99254 [==============================] - 60s 608us/step - loss: 1.6192 - acc: 0.5434 - val_loss: 1.4901 - val_acc: 0.5750\n",
            "Epoch 8/20\n",
            "99254/99254 [==============================] - 60s 601us/step - loss: 1.6055 - acc: 0.5471 - val_loss: 1.4816 - val_acc: 0.5786\n",
            "Epoch 9/20\n",
            "99254/99254 [==============================] - 60s 603us/step - loss: 1.5951 - acc: 0.5500 - val_loss: 1.4818 - val_acc: 0.5796\n",
            "Epoch 10/20\n",
            "99254/99254 [==============================] - 60s 603us/step - loss: 1.5842 - acc: 0.5529 - val_loss: 1.4722 - val_acc: 0.5844\n",
            "Epoch 11/20\n",
            "99254/99254 [==============================] - 59s 599us/step - loss: 1.5776 - acc: 0.5525 - val_loss: 1.4747 - val_acc: 0.5819\n",
            "Epoch 12/20\n",
            "99254/99254 [==============================] - 61s 611us/step - loss: 1.5677 - acc: 0.5570 - val_loss: 1.4610 - val_acc: 0.5859\n",
            "Epoch 13/20\n",
            "99254/99254 [==============================] - 60s 606us/step - loss: 1.5618 - acc: 0.5567 - val_loss: 1.4739 - val_acc: 0.5820\n",
            "Epoch 14/20\n",
            "99254/99254 [==============================] - 60s 609us/step - loss: 1.5574 - acc: 0.5578 - val_loss: 1.4605 - val_acc: 0.5872\n",
            "Epoch 15/20\n",
            "99254/99254 [==============================] - 60s 602us/step - loss: 1.5561 - acc: 0.5597 - val_loss: 1.4691 - val_acc: 0.5868\n",
            "Epoch 16/20\n",
            "99254/99254 [==============================] - 60s 603us/step - loss: 1.5503 - acc: 0.5617 - val_loss: 1.4614 - val_acc: 0.5878\n",
            "Epoch 17/20\n",
            "99254/99254 [==============================] - 60s 609us/step - loss: 1.5393 - acc: 0.5633 - val_loss: 1.4649 - val_acc: 0.5871\n",
            "Epoch 18/20\n",
            "99254/99254 [==============================] - 61s 611us/step - loss: 1.5360 - acc: 0.5645 - val_loss: 1.4585 - val_acc: 0.5905\n",
            "Epoch 19/20\n",
            "99254/99254 [==============================] - 60s 607us/step - loss: 1.5391 - acc: 0.5621 - val_loss: 1.4632 - val_acc: 0.5885\n",
            "Epoch 20/20\n",
            "99254/99254 [==============================] - 60s 606us/step - loss: 1.5319 - acc: 0.5621 - val_loss: 1.4631 - val_acc: 0.5892\n"
          ],
          "name": "stdout"
        }
      ]
    },
    {
      "cell_type": "code",
      "metadata": {
        "id": "aKXcbyx3ubSZ",
        "colab_type": "code",
        "colab": {}
      },
      "source": [
        "accuracy = textcnn_hist.history['acc']\n",
        "val_acc = textcnn_hist.history['val_acc']\n",
        "loss = textcnn_hist.history['loss']\n",
        "val_loss = textcnn_hist.history['val_loss']\n",
        "epochs = range(1, len(accuracy) + 1)"
      ],
      "execution_count": 0,
      "outputs": []
    },
    {
      "cell_type": "code",
      "metadata": {
        "id": "xsqWPdjD90uC",
        "colab_type": "code",
        "colab": {
          "base_uri": "https://localhost:8080/",
          "height": 374
        },
        "outputId": "f3465c29-7f8c-43bd-d4a4-7688ee11eb1f"
      },
      "source": [
        "plt.plot(epochs, accuracy, 'green', label = 'Training Accuracy')\n",
        "plt.plot(epochs, val_acc, 'brown', label = 'Validation Accuracy')\n",
        "plt.legend()\n",
        "plt.show()"
      ],
      "execution_count": 30,
      "outputs": [
        {
          "output_type": "display_data",
          "data": {
            "image/png": "[encoded data removed]",
            "text/plain": [
              "<Figure size 432x432 with 1 Axes>"
            ]
          },
          "metadata": {
            "tags": []
          }
        }
      ]
    },
    {
      "cell_type": "code",
      "metadata": {
        "id": "8F7l3ta-_IfG",
        "colab_type": "code",
        "colab": {
          "base_uri": "https://localhost:8080/",
          "height": 375
        },
        "outputId": "1d342013-79b8-42d9-af91-dd121630f1bf"
      },
      "source": [
        "plt.plot(epochs, loss, 'green', label = 'Training Loss')\n",
        "plt.plot(epochs, val_loss, 'brown', label = 'Validation Loss')\n",
        "plt.legend()\n",
        "plt.show()"
      ],
      "execution_count": 31,
      "outputs": [
        {
          "output_type": "display_data",
          "data": {
            "image/png": "[encoded data removed]",
            "text/plain": [
              "<Figure size 432x432 with 1 Axes>"
            ]
          },
          "metadata": {
            "tags": []
          }
        }
      ]
    },
    {
      "cell_type": "code",
      "metadata": {
        "id": "3ZAFBAZMGADw",
        "colab_type": "code",
        "colab": {}
      },
      "source": [
        "# BidirectionalGRU + Conv"
      ],
      "execution_count": 0,
      "outputs": []
    },
    {
      "cell_type": "code",
      "metadata": {
        "id": "V6OVbvz_GYi3",
        "colab_type": "code",
        "colab": {
          "base_uri": "https://localhost:8080/",
          "height": 476
        },
        "outputId": "909e37ff-5660-496f-e121-690ff7d06767"
      },
      "source": [
        "inp = Input((maxlen, ), dtype='int32')\n",
        "x = embedding_layer(inp)\n",
        "x = SpatialDropout1D(0.2)(x)\n",
        "x = Bidirectional(GRU(128, return_sequences=True, dropout = 0.1, recurrent_dropout=0.1))(x)\n",
        "x = Conv1D(64, kernel_size=3)(x)\n",
        "avg_pool = GlobalAveragePooling1D()(x)\n",
        "max_pool = GlobalMaxPooling1D()(x)\n",
        "x = concatenate([avg_pool , max_pool])\n",
        "outp = Dense(len(int_cat), activation='softmax')(x)\n",
        "\n",
        "BiGRU = Model(inp, outp)\n",
        "BiGRU.compile(loss = 'categorical_crossentropy', optimizer = 'adam', metrics = ['accuracy'])\n",
        "BiGRU.summary()"
      ],
      "execution_count": 33,
      "outputs": [
        {
          "output_type": "stream",
          "text": [
            "Model: \"model_2\"\n",
            "__________________________________________________________________________________________________\n",
            "Layer (type)                    Output Shape         Param #     Connected to                     \n",
            "==================================================================================================\n",
            "input_2 (InputLayer)            (None, 50)           0                                            \n",
            "__________________________________________________________________________________________________\n",
            "embedding_1 (Embedding)         (None, 50, 100)      8662800     input_2[0][0]                    \n",
            "__________________________________________________________________________________________________\n",
            "spatial_dropout1d_1 (SpatialDro (None, 50, 100)      0           embedding_1[1][0]                \n",
            "__________________________________________________________________________________________________\n",
            "bidirectional_1 (Bidirectional) (None, 50, 256)      175872      spatial_dropout1d_1[0][0]        \n",
            "__________________________________________________________________________________________________\n",
            "conv1d_4 (Conv1D)               (None, 48, 64)       49216       bidirectional_1[0][0]            \n",
            "__________________________________________________________________________________________________\n",
            "global_average_pooling1d_1 (Glo (None, 64)           0           conv1d_4[0][0]                   \n",
            "__________________________________________________________________________________________________\n",
            "global_max_pooling1d_1 (GlobalM (None, 64)           0           conv1d_4[0][0]                   \n",
            "__________________________________________________________________________________________________\n",
            "concatenate_2 (Concatenate)     (None, 128)          0           global_average_pooling1d_1[0][0] \n",
            "                                                                 global_max_pooling1d_1[0][0]     \n",
            "__________________________________________________________________________________________________\n",
            "dense_2 (Dense)                 (None, 30)           3870        concatenate_2[0][0]              \n",
            "==================================================================================================\n",
            "Total params: 8,891,758\n",
            "Trainable params: 228,958\n",
            "Non-trainable params: 8,662,800\n",
            "__________________________________________________________________________________________________\n"
          ],
          "name": "stdout"
        }
      ]
    },
    {
      "cell_type": "code",
      "metadata": {
        "id": "nY64uaXhiNtl",
        "colab_type": "code",
        "colab": {
          "base_uri": "https://localhost:8080/",
          "height": 714
        },
        "outputId": "3db916ab-9894-4a1a-8d14-61e03d82122f"
      },
      "source": [
        "biGRU_histr = BiGRU.fit(X_train, Y_train, 128, 20, validation_data=(X_val, Y_val))"
      ],
      "execution_count": 34,
      "outputs": [
        {
          "output_type": "stream",
          "text": [
            "Train on 99254 samples, validate on 24814 samples\n",
            "Epoch 1/20\n",
            "99254/99254 [==============================] - 265s 3ms/step - loss: 1.8388 - acc: 0.4928 - val_loss: 1.4848 - val_acc: 0.5723\n",
            "Epoch 2/20\n",
            "99254/99254 [==============================] - 262s 3ms/step - loss: 1.5068 - acc: 0.5654 - val_loss: 1.3856 - val_acc: 0.5969\n",
            "Epoch 3/20\n",
            "99254/99254 [==============================] - 263s 3ms/step - loss: 1.4150 - acc: 0.5874 - val_loss: 1.3353 - val_acc: 0.6096\n",
            "Epoch 4/20\n",
            "99254/99254 [==============================] - 267s 3ms/step - loss: 1.3575 - acc: 0.6005 - val_loss: 1.3071 - val_acc: 0.6126\n",
            "Epoch 5/20\n",
            "99254/99254 [==============================] - 264s 3ms/step - loss: 1.3135 - acc: 0.6134 - val_loss: 1.2826 - val_acc: 0.6200\n",
            "Epoch 6/20\n",
            "99254/99254 [==============================] - 263s 3ms/step - loss: 1.2739 - acc: 0.6221 - val_loss: 1.2759 - val_acc: 0.6207\n",
            "Epoch 7/20\n",
            "99254/99254 [==============================] - 264s 3ms/step - loss: 1.2506 - acc: 0.6281 - val_loss: 1.2738 - val_acc: 0.6228\n",
            "Epoch 8/20\n",
            "99254/99254 [==============================] - 263s 3ms/step - loss: 1.2222 - acc: 0.6349 - val_loss: 1.2644 - val_acc: 0.6272\n",
            "Epoch 9/20\n",
            "99254/99254 [==============================] - 262s 3ms/step - loss: 1.2010 - acc: 0.6388 - val_loss: 1.2711 - val_acc: 0.6262\n",
            "Epoch 10/20\n",
            "99254/99254 [==============================] - 262s 3ms/step - loss: 1.1820 - acc: 0.6441 - val_loss: 1.2770 - val_acc: 0.6267\n",
            "Epoch 11/20\n",
            "99254/99254 [==============================] - 263s 3ms/step - loss: 1.1670 - acc: 0.6501 - val_loss: 1.2646 - val_acc: 0.6267\n",
            "Epoch 12/20\n",
            "99254/99254 [==============================] - 262s 3ms/step - loss: 1.1501 - acc: 0.6517 - val_loss: 1.2714 - val_acc: 0.6293\n",
            "Epoch 13/20\n",
            "99254/99254 [==============================] - 262s 3ms/step - loss: 1.1337 - acc: 0.6576 - val_loss: 1.2774 - val_acc: 0.6298\n",
            "Epoch 14/20\n",
            "99254/99254 [==============================] - 263s 3ms/step - loss: 1.1237 - acc: 0.6592 - val_loss: 1.2708 - val_acc: 0.6280\n",
            "Epoch 15/20\n",
            "99254/99254 [==============================] - 260s 3ms/step - loss: 1.1116 - acc: 0.6632 - val_loss: 1.2657 - val_acc: 0.6303\n",
            "Epoch 16/20\n",
            "99254/99254 [==============================] - 260s 3ms/step - loss: 1.1020 - acc: 0.6641 - val_loss: 1.2786 - val_acc: 0.6291\n",
            "Epoch 17/20\n",
            "99254/99254 [==============================] - 265s 3ms/step - loss: 1.0941 - acc: 0.6670 - val_loss: 1.2749 - val_acc: 0.6302\n",
            "Epoch 18/20\n",
            "99254/99254 [==============================] - 270s 3ms/step - loss: 1.0846 - acc: 0.6705 - val_loss: 1.2881 - val_acc: 0.6311\n",
            "Epoch 19/20\n",
            "99254/99254 [==============================] - 266s 3ms/step - loss: 1.0755 - acc: 0.6714 - val_loss: 1.2805 - val_acc: 0.6291\n",
            "Epoch 20/20\n",
            "99254/99254 [==============================] - 265s 3ms/step - loss: 1.0701 - acc: 0.6722 - val_loss: 1.2833 - val_acc: 0.6298\n"
          ],
          "name": "stdout"
        }
      ]
    },
    {
      "cell_type": "code",
      "metadata": {
        "id": "7Tw513ZAihnu",
        "colab_type": "code",
        "colab": {
          "base_uri": "https://localhost:8080/",
          "height": 763
        },
        "outputId": "a1c7a5fe-1d23-4bff-dbf0-cf0f65b6d884"
      },
      "source": [
        "acc = biGRU_histr.history['acc']\n",
        "val_acc = biGRU_histr.history['val_acc']\n",
        "epochs = range(1, len(acc) + 1)\n",
        "loss = biGRU_histr.history['loss']\n",
        "val_loss = biGRU_histr.history['val_loss']\n",
        "\n",
        "plt.title('Training and validation accuracy')  \n",
        "plt.plot(epochs, acc, 'red', label='Training acc')\n",
        "plt.plot(epochs, val_acc, 'blue', label='Validation acc')\n",
        "plt.legend()\n",
        "\n",
        "plt.figure()\n",
        "plt.title('Training and validation loss')\n",
        "plt.plot(epochs, loss, 'red', label='Training loss')\n",
        "plt.plot(epochs, val_loss, 'blue', label='Validation loss')\n",
        "plt.legend()\n",
        "\n",
        "plt.show() "
      ],
      "execution_count": 35,
      "outputs": [
        {
          "output_type": "display_data",
          "data": {
            "image/png": "[encoded data removed]",
            "text/plain": [
              "<Figure size 432x432 with 1 Axes>"
            ]
          },
          "metadata": {
            "tags": []
          }
        },
        {
          "output_type": "display_data",
          "data": {
            "image/png": "[encoded data removed]",
            "text/plain": [
              "<Figure size 432x432 with 1 Axes>"
            ]
          },
          "metadata": {
            "tags": []
          }
        }
      ]
    },
    {
      "cell_type": "code",
      "metadata": {
        "id": "_WE5AehuIyda",
        "colab_type": "code",
        "colab": {}
      },
      "source": [
        "import pickle\n",
        "filename = 'biGRU_histr_model.sav'\n",
        "pickle.dump(biGRU_histr, open(filename, 'wb'))"
      ],
      "execution_count": 0,
      "outputs": []
    },
    {
      "cell_type": "code",
      "metadata": {
        "id": "FPN_0MBvI-5H",
        "colab_type": "code",
        "colab": {}
      },
      "source": [
        "class Attention(Layer):\n",
        "    def __init__(self, step_dim,\n",
        "                 W_regularizer=None, b_regularizer=None,\n",
        "                 W_constraint=None, b_constraint=None,\n",
        "                 bias=True, **kwargs):\n",
        "        self.supports_masking = True\n",
        "        self.init = initializers.get('glorot_uniform')\n",
        "        self.W_regularizer = regularizers.get(W_regularizer)\n",
        "        self.b_regularizer = regularizers.get(b_regularizer)\n",
        "        self.W_constraint = constraints.get(W_constraint)\n",
        "        self.b_constraint = constraints.get(b_constraint)\n",
        "        self.bias = bias\n",
        "        self.step_dim = step_dim\n",
        "        self.features_dim = 0\n",
        "        super(Attention, self).__init__(**kwargs)\n",
        "\n",
        "    def build(self, input_shape):\n",
        "        assert len(input_shape) == 3\n",
        "        self.W = self.add_weight((input_shape[-1],),\n",
        "                                 initializer=self.init,\n",
        "                                 name='{}_W'.format(self.name),\n",
        "                                 regularizer=self.W_regularizer,\n",
        "                                 constraint=self.W_constraint)\n",
        "        self.features_dim = input_shape[-1]\n",
        "        if self.bias:\n",
        "            self.b = self.add_weight((input_shape[1],),\n",
        "                                     initializer='zero',\n",
        "                                     name='{}_b'.format(self.name),\n",
        "                                     regularizer=self.b_regularizer,\n",
        "                                     constraint=self.b_constraint)\n",
        "        else:\n",
        "            self.b = None\n",
        "        self.built = True\n",
        "\n",
        "    def compute_mask(self, input, input_mask=None):\n",
        "        return None\n",
        "\n",
        "    def call(self, x, mask=None):\n",
        "        features_dim = self.features_dim\n",
        "        step_dim = self.step_dim\n",
        "        eij = K.reshape(K.dot(K.reshape(x, (-1, features_dim)), K.reshape(self.W, (features_dim, 1))), (-1, step_dim))\n",
        "        if self.bias:\n",
        "            eij += self.b\n",
        "        eij = K.tanh(eij)\n",
        "        a = K.exp(eij)\n",
        "        if mask is not None:\n",
        "            a *= K.cast(mask, K.floatx())\n",
        "        a /= K.cast(K.sum(a, axis=1, keepdims=True) + K.epsilon(), K.floatx())\n",
        "        a = K.expand_dims(a)\n",
        "        weighted_input = x * a\n",
        "        return K.sum(weighted_input, axis=1)\n",
        "\n",
        "    def compute_output_shape(self, input_shape):\n",
        "        return input_shape[0],  self.features_dim"
      ],
      "execution_count": 0,
      "outputs": []
    },
    {
      "cell_type": "code",
      "metadata": {
        "id": "GW51L6tkTvYv",
        "colab_type": "code",
        "colab": {
          "base_uri": "https://localhost:8080/",
          "height": 425
        },
        "outputId": "e1e76634-441e-4b15-bf6a-e7e7f12602e0"
      },
      "source": [
        "lstm_layer = LSTM(300, dropout = 0.25, recurrent_dropout=0.25, return_sequences=True)\n",
        "\n",
        "inp = Input(shape=(maxlen, ), dtype='int32')\n",
        "embedding = embedding_layer(inp)\n",
        "x = lstm_layer(embedding)\n",
        "x = Dropout(0.25)(x)\n",
        "merged = Attention(maxlen)(x) #attention is being applied on x with maxlen passed in it\n",
        "merged = Dense(256, activation = 'relu')(merged)\n",
        "merged = BatchNormalization()(merged)\n",
        "outp = Dense(len(int_cat), activation = 'softmax')(merged)\n",
        "\n",
        "AttentionLSTM = Model(inputs = inp, outputs = outp)\n",
        "AttentionLSTM.compile(loss='categorical_crossentropy', optimizer = 'adam', metrics = ['acc'])\n",
        "AttentionLSTM.summary()"
      ],
      "execution_count": 38,
      "outputs": [
        {
          "output_type": "stream",
          "text": [
            "Model: \"model_3\"\n",
            "_________________________________________________________________\n",
            "Layer (type)                 Output Shape              Param #   \n",
            "=================================================================\n",
            "input_3 (InputLayer)         (None, 50)                0         \n",
            "_________________________________________________________________\n",
            "embedding_1 (Embedding)      (None, 50, 100)           8662800   \n",
            "_________________________________________________________________\n",
            "lstm_1 (LSTM)                (None, 50, 300)           481200    \n",
            "_________________________________________________________________\n",
            "dropout_5 (Dropout)          (None, 50, 300)           0         \n",
            "_________________________________________________________________\n",
            "attention_1 (Attention)      (None, 300)               350       \n",
            "_________________________________________________________________\n",
            "dense_3 (Dense)              (None, 256)               77056     \n",
            "_________________________________________________________________\n",
            "batch_normalization_1 (Batch (None, 256)               1024      \n",
            "_________________________________________________________________\n",
            "dense_4 (Dense)              (None, 30)                7710      \n",
            "=================================================================\n",
            "Total params: 9,230,140\n",
            "Trainable params: 566,828\n",
            "Non-trainable params: 8,663,312\n",
            "_________________________________________________________________\n"
          ],
          "name": "stdout"
        }
      ]
    },
    {
      "cell_type": "code",
      "metadata": {
        "id": "YLWqU4lOsUIS",
        "colab_type": "code",
        "colab": {}
      },
      "source": [
        "AttentionLSTM_histr = AttentionLSTM.fit(X_train, Y_train, batch_size = 128, epochs = 20, validation_data=(X_val, Y_val))"
      ],
      "execution_count": 0,
      "outputs": []
    },
    {
      "cell_type": "code",
      "metadata": {
        "id": "Nm_IaYi4smwd",
        "colab_type": "code",
        "colab": {}
      },
      "source": [
        "acc = AttentionLSTM_histr.history['acc']\n",
        "val_acc = AttentionLSTM_histr.history['val_acc']\n",
        "loss = AttentionLSTM_histr.history['loss']\n",
        "val_loss = AttentionLSTM_histr.history['val_loss']\n",
        "epochs = range(1, len(acc) + 1)\n",
        "\n",
        "plt.title('Training and validation accuracy')\n",
        "plt.plot(epochs, acc, 'red', label='Training acc')\n",
        "plt.plot(epochs, val_acc, 'blue', label='Validation acc')\n",
        "plt.legend()\n",
        "\n",
        "plt.figure()\n",
        "plt.title('Training and validation loss')\n",
        "plt.plot(epochs, loss, 'red', label='Training loss')\n",
        "plt.plot(epochs, val_loss, 'blue', label='Validation loss')\n",
        "plt.legend()\n",
        "\n",
        "plt.show()"
      ],
      "execution_count": 0,
      "outputs": []
    },
    {
      "cell_type": "code",
      "metadata": {
        "id": "Dpfa0RxAs_d9",
        "colab_type": "code",
        "colab": {}
      },
      "source": [
        "predicted = AttentionLSTM.predict(X_val)\n",
        "cm = pd.DataFrame(confusion_matrix(Y_val.argmax(axis = 1), predicted.argmax(axis = 1)))\n",
        "from IPython.display import display\n",
        "pd.options.display.max_columns = None\n",
        "display(cm)"
      ],
      "execution_count": 0,
      "outputs": []
    },
    {
      "cell_type": "code",
      "metadata": {
        "id": "uwlbC64rwwee",
        "colab_type": "code",
        "colab": {}
      },
      "source": [
        "#evaluate accuracy"
      ],
      "execution_count": 0,
      "outputs": []
    },
    {
      "cell_type": "code",
      "metadata": {
        "id": "TtAXYhlkW9BJ",
        "colab_type": "code",
        "colab": {}
      },
      "source": [
        "def evaluate_accuracy(model):\n",
        "  predicted = model.predict(X_val)\n",
        "  diff = Y_val.argmax(axis = -1) - predicted.argmax(axis = -1)  \n",
        "  corrects = np.where(diff == 0)[0].shape[0]\n",
        "  total = Y_val.shape[0]\n",
        "  return (corrects/total)"
      ],
      "execution_count": 0,
      "outputs": []
    },
    {
      "cell_type": "code",
      "metadata": {
        "id": "vWCL_3GSZ-pr",
        "colab_type": "code",
        "colab": {}
      },
      "source": [
        "print('Model TextCNN accuracy: %.6f' %evaluate_accuracy(TextCNN))\n",
        "print('Model BiGRU + Conv1D accuracy: %.6f' %evaluate_accuracy(BiGRU))\n",
        "print('Model Attention accuracy: %.6f' %evaluate_accuracy(AttentionLSTM))\n"
      ],
      "execution_count": 0,
      "outputs": []
    },
    {
      "cell_type": "code",
      "metadata": {
        "id": "XwOoN0TpbK9F",
        "colab_type": "code",
        "colab": {}
      },
      "source": [
        "#Ensembling models"
      ],
      "execution_count": 0,
      "outputs": []
    },
    {
      "cell_type": "code",
      "metadata": {
        "id": "shxea9E1bNfi",
        "colab_type": "code",
        "colab": {}
      },
      "source": [
        "def ensemble_acc(models):\n",
        "  res = np.zeros(shape = Y_val.shape)\n",
        "  for model in models:\n",
        "    predicted = model.predict(X_val)\n",
        "    res += predicted\n",
        "  res/= len(models)\n",
        "  diff = Y_val.argmax(axis = -1) - res.argmax(axis = -1) \n",
        "  correct = np.where(diff == 0)[0].shape[0]\n",
        "  total = Y_val.shape[0]\n",
        "  return float(correct/total)\n",
        "\n",
        "\n",
        "print('Overall accuracy: %.6f' %ensemble_acc([TextCNN, BiGRU, AttentionLSTM]))"
      ],
      "execution_count": 0,
      "outputs": []
    },
    {
      "cell_type": "code",
      "metadata": {
        "id": "VwCPvy-4XTMc",
        "colab_type": "code",
        "colab": {}
      },
      "source": [
        ""
      ],
      "execution_count": 0,
      "outputs": []
    }
  ]
}