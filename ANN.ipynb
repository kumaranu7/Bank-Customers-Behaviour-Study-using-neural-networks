{
  "nbformat": 4,
  "nbformat_minor": 0,
  "metadata": {
    "colab": {
      "name": "ANN.ipynb",
      "provenance": [],
      "include_colab_link": true
    },
    "kernelspec": {
      "name": "python3",
      "display_name": "Python 3"
    }
  },
  "cells": [
    {
      "cell_type": "markdown",
      "metadata": {
        "id": "view-in-github",
        "colab_type": "text"
      },
      "source": [
        "<a href=\"https://colab.research.google.com/github/kumaranu7/Bank-Customers-Behaviour-Study-using-neural-networks/blob/master/ANN.ipynb\" target=\"_parent\"><img src=\"https://colab.research.google.com/assets/colab-badge.svg\" alt=\"Open In Colab\"/></a>"
      ]
    },
    {
      "cell_type": "code",
      "metadata": {
        "id": "e5-B03mJ-NyQ",
        "colab_type": "code",
        "colab": {}
      },
      "source": [
        "import tensorflow as tf"
      ],
      "execution_count": 0,
      "outputs": []
    },
    {
      "cell_type": "code",
      "metadata": {
        "id": "W4O2_rlQ-Vrf",
        "colab_type": "code",
        "colab": {}
      },
      "source": [
        "import keras"
      ],
      "execution_count": 0,
      "outputs": []
    },
    {
      "cell_type": "code",
      "metadata": {
        "id": "EhgLW2fx-tC7",
        "colab_type": "code",
        "colab": {}
      },
      "source": [
        "import pandas as pd\n",
        "import numpy as np\n",
        "import matplotlib.pyplot as plt\n",
        "import seaborn as sns\n",
        "\n",
        "dataset = pd.read_csv('Churn_Modelling.csv')\n",
        "X = dataset.iloc[:, 3:13]\n",
        "y = dataset.iloc[:, 13]\n",
        "\n",
        "geography = pd.get_dummies(X['Geography'],drop_first=True)\n",
        "gender = pd.get_dummies(X['Gender'],drop_first=True)\n",
        "\n",
        "X = pd.concat([X, geography, gender], axis = 1)\n",
        "X = X.drop(['Geography','Gender'], axis = 1)\n",
        "\n",
        "from sklearn.model_selection import train_test_split\n",
        "X_train, X_test, y_train, y_test = train_test_split(X,y,test_size = 0.2, random_state = 0)\n",
        "\n",
        "from sklearn.preprocessing import StandardScaler\n",
        "sc = StandardScaler()\n",
        "X_train = sc.fit_transform(X_train)\n",
        "X_test = sc.fit_transform(X_test)"
      ],
      "execution_count": 0,
      "outputs": []
    },
    {
      "cell_type": "code",
      "metadata": {
        "id": "V4o-Gm2lAtTq",
        "colab_type": "code",
        "colab": {
          "base_uri": "https://localhost:8080/",
          "height": 34
        },
        "outputId": "38ecf4ea-d4c5-4d54-c412-ac88ee288594"
      },
      "source": [
        "X_train.shape"
      ],
      "execution_count": 29,
      "outputs": [
        {
          "output_type": "execute_result",
          "data": {
            "text/plain": [
              "(8000, 11)"
            ]
          },
          "metadata": {
            "tags": []
          },
          "execution_count": 29
        }
      ]
    },
    {
      "cell_type": "code",
      "metadata": {
        "id": "ThMQh6tkAwGP",
        "colab_type": "code",
        "colab": {
          "base_uri": "https://localhost:8080/",
          "height": 195
        },
        "outputId": "f3b37202-0f74-4cd1-957f-b5b640626e35"
      },
      "source": [
        "dataset.head()"
      ],
      "execution_count": 30,
      "outputs": [
        {
          "output_type": "execute_result",
          "data": {
            "text/html": [
              "<div>\n",
              "<style scoped>\n",
              "    .dataframe tbody tr th:only-of-type {\n",
              "        vertical-align: middle;\n",
              "    }\n",
              "\n",
              "    .dataframe tbody tr th {\n",
              "        vertical-align: top;\n",
              "    }\n",
              "\n",
              "    .dataframe thead th {\n",
              "        text-align: right;\n",
              "    }\n",
              "</style>\n",
              "<table border=\"1\" class=\"dataframe\">\n",
              "  <thead>\n",
              "    <tr style=\"text-align: right;\">\n",
              "      <th></th>\n",
              "      <th>RowNumber</th>\n",
              "      <th>CustomerId</th>\n",
              "      <th>Surname</th>\n",
              "      <th>CreditScore</th>\n",
              "      <th>Geography</th>\n",
              "      <th>Gender</th>\n",
              "      <th>Age</th>\n",
              "      <th>Tenure</th>\n",
              "      <th>Balance</th>\n",
              "      <th>NumOfProducts</th>\n",
              "      <th>HasCrCard</th>\n",
              "      <th>IsActiveMember</th>\n",
              "      <th>EstimatedSalary</th>\n",
              "      <th>Exited</th>\n",
              "    </tr>\n",
              "  </thead>\n",
              "  <tbody>\n",
              "    <tr>\n",
              "      <th>0</th>\n",
              "      <td>1</td>\n",
              "      <td>15634602</td>\n",
              "      <td>Hargrave</td>\n",
              "      <td>619</td>\n",
              "      <td>France</td>\n",
              "      <td>Female</td>\n",
              "      <td>42</td>\n",
              "      <td>2</td>\n",
              "      <td>0.00</td>\n",
              "      <td>1</td>\n",
              "      <td>1</td>\n",
              "      <td>1</td>\n",
              "      <td>101348.88</td>\n",
              "      <td>1</td>\n",
              "    </tr>\n",
              "    <tr>\n",
              "      <th>1</th>\n",
              "      <td>2</td>\n",
              "      <td>15647311</td>\n",
              "      <td>Hill</td>\n",
              "      <td>608</td>\n",
              "      <td>Spain</td>\n",
              "      <td>Female</td>\n",
              "      <td>41</td>\n",
              "      <td>1</td>\n",
              "      <td>83807.86</td>\n",
              "      <td>1</td>\n",
              "      <td>0</td>\n",
              "      <td>1</td>\n",
              "      <td>112542.58</td>\n",
              "      <td>0</td>\n",
              "    </tr>\n",
              "    <tr>\n",
              "      <th>2</th>\n",
              "      <td>3</td>\n",
              "      <td>15619304</td>\n",
              "      <td>Onio</td>\n",
              "      <td>502</td>\n",
              "      <td>France</td>\n",
              "      <td>Female</td>\n",
              "      <td>42</td>\n",
              "      <td>8</td>\n",
              "      <td>159660.80</td>\n",
              "      <td>3</td>\n",
              "      <td>1</td>\n",
              "      <td>0</td>\n",
              "      <td>113931.57</td>\n",
              "      <td>1</td>\n",
              "    </tr>\n",
              "    <tr>\n",
              "      <th>3</th>\n",
              "      <td>4</td>\n",
              "      <td>15701354</td>\n",
              "      <td>Boni</td>\n",
              "      <td>699</td>\n",
              "      <td>France</td>\n",
              "      <td>Female</td>\n",
              "      <td>39</td>\n",
              "      <td>1</td>\n",
              "      <td>0.00</td>\n",
              "      <td>2</td>\n",
              "      <td>0</td>\n",
              "      <td>0</td>\n",
              "      <td>93826.63</td>\n",
              "      <td>0</td>\n",
              "    </tr>\n",
              "    <tr>\n",
              "      <th>4</th>\n",
              "      <td>5</td>\n",
              "      <td>15737888</td>\n",
              "      <td>Mitchell</td>\n",
              "      <td>850</td>\n",
              "      <td>Spain</td>\n",
              "      <td>Female</td>\n",
              "      <td>43</td>\n",
              "      <td>2</td>\n",
              "      <td>125510.82</td>\n",
              "      <td>1</td>\n",
              "      <td>1</td>\n",
              "      <td>1</td>\n",
              "      <td>79084.10</td>\n",
              "      <td>0</td>\n",
              "    </tr>\n",
              "  </tbody>\n",
              "</table>\n",
              "</div>"
            ],
            "text/plain": [
              "   RowNumber  CustomerId   Surname  ...  IsActiveMember EstimatedSalary Exited\n",
              "0          1    15634602  Hargrave  ...               1       101348.88      1\n",
              "1          2    15647311      Hill  ...               1       112542.58      0\n",
              "2          3    15619304      Onio  ...               0       113931.57      1\n",
              "3          4    15701354      Boni  ...               0        93826.63      0\n",
              "4          5    15737888  Mitchell  ...               1        79084.10      0\n",
              "\n",
              "[5 rows x 14 columns]"
            ]
          },
          "metadata": {
            "tags": []
          },
          "execution_count": 30
        }
      ]
    },
    {
      "cell_type": "code",
      "metadata": {
        "id": "Xf9gi7HdA0Wu",
        "colab_type": "code",
        "colab": {}
      },
      "source": [
        "from keras.models import Sequential\n",
        "from keras.layers import Dense\n",
        "from keras.layers import Dropout"
      ],
      "execution_count": 0,
      "outputs": []
    },
    {
      "cell_type": "code",
      "metadata": {
        "id": "h0QSTx6AC-gq",
        "colab_type": "code",
        "colab": {}
      },
      "source": [
        " classifier = Sequential()"
      ],
      "execution_count": 0,
      "outputs": []
    },
    {
      "cell_type": "code",
      "metadata": {
        "id": "imdyyWIjFAPT",
        "colab_type": "code",
        "colab": {
          "base_uri": "https://localhost:8080/",
          "height": 104
        },
        "outputId": "167d3469-ff22-41f7-c16c-2d1a0c9bc25d"
      },
      "source": [
        "classifier.add(Dense(units = 6, kernel_initializer = 'he_uniform', activation = 'relu', input_dim = 11))"
      ],
      "execution_count": 33,
      "outputs": [
        {
          "output_type": "stream",
          "text": [
            "WARNING:tensorflow:From /usr/local/lib/python3.6/dist-packages/keras/backend/tensorflow_backend.py:541: The name tf.placeholder is deprecated. Please use tf.compat.v1.placeholder instead.\n",
            "\n",
            "WARNING:tensorflow:From /usr/local/lib/python3.6/dist-packages/keras/backend/tensorflow_backend.py:4432: The name tf.random_uniform is deprecated. Please use tf.random.uniform instead.\n",
            "\n"
          ],
          "name": "stdout"
        }
      ]
    },
    {
      "cell_type": "code",
      "metadata": {
        "id": "COD1wTfBHum5",
        "colab_type": "code",
        "colab": {}
      },
      "source": [
        "classifier.add(Dense(units = 6, kernel_initializer = 'he_uniform', activation = 'relu'))"
      ],
      "execution_count": 0,
      "outputs": []
    },
    {
      "cell_type": "code",
      "metadata": {
        "id": "3u0KSvJyMCLF",
        "colab_type": "code",
        "colab": {}
      },
      "source": [
        "classifier.add(Dense(units = 1, kernel_initializer = 'glorot_uniform', activation = 'sigmoid'))"
      ],
      "execution_count": 0,
      "outputs": []
    },
    {
      "cell_type": "code",
      "metadata": {
        "id": "X8vbbxe6Mc3V",
        "colab_type": "code",
        "colab": {
          "base_uri": "https://localhost:8080/",
          "height": 252
        },
        "outputId": "1cc62e18-f35d-476d-b62c-7f2ebdc69360"
      },
      "source": [
        "classifier.summary()"
      ],
      "execution_count": 36,
      "outputs": [
        {
          "output_type": "stream",
          "text": [
            "Model: \"sequential_2\"\n",
            "_________________________________________________________________\n",
            "Layer (type)                 Output Shape              Param #   \n",
            "=================================================================\n",
            "dense_6 (Dense)              (None, 6)                 72        \n",
            "_________________________________________________________________\n",
            "dense_7 (Dense)              (None, 6)                 42        \n",
            "_________________________________________________________________\n",
            "dense_8 (Dense)              (None, 1)                 7         \n",
            "=================================================================\n",
            "Total params: 121\n",
            "Trainable params: 121\n",
            "Non-trainable params: 0\n",
            "_________________________________________________________________\n"
          ],
          "name": "stdout"
        }
      ]
    },
    {
      "cell_type": "code",
      "metadata": {
        "id": "pcrPutpXNYcJ",
        "colab_type": "code",
        "colab": {
          "base_uri": "https://localhost:8080/",
          "height": 154
        },
        "outputId": "28e8044d-f665-492d-dc57-83dc99f26d15"
      },
      "source": [
        "classifier.compile(optimizer = 'adam', loss = 'binary_crossentropy', metrics = ['accuracy'])"
      ],
      "execution_count": 37,
      "outputs": [
        {
          "output_type": "stream",
          "text": [
            "WARNING:tensorflow:From /usr/local/lib/python3.6/dist-packages/keras/optimizers.py:793: The name tf.train.Optimizer is deprecated. Please use tf.compat.v1.train.Optimizer instead.\n",
            "\n",
            "WARNING:tensorflow:From /usr/local/lib/python3.6/dist-packages/keras/backend/tensorflow_backend.py:3657: The name tf.log is deprecated. Please use tf.math.log instead.\n",
            "\n",
            "WARNING:tensorflow:From /usr/local/lib/python3.6/dist-packages/tensorflow_core/python/ops/nn_impl.py:183: where (from tensorflow.python.ops.array_ops) is deprecated and will be removed in a future version.\n",
            "Instructions for updating:\n",
            "Use tf.where in 2.0, which has the same broadcast rule as np.where\n"
          ],
          "name": "stdout"
        }
      ]
    },
    {
      "cell_type": "code",
      "metadata": {
        "id": "z7_QwZ51Wt-O",
        "colab_type": "code",
        "colab": {
          "base_uri": "https://localhost:8080/",
          "height": 1000
        },
        "outputId": "6dc8c645-6bf1-4031-ea52-cd0ef24f91c4"
      },
      "source": [
        "model_history =  classifier.fit(X_train, y_train, validation_split = 0.33, batch_size = 10, nb_epoch = 100)"
      ],
      "execution_count": 38,
      "outputs": [
        {
          "output_type": "stream",
          "text": [
            "/usr/local/lib/python3.6/dist-packages/ipykernel_launcher.py:1: UserWarning: The `nb_epoch` argument in `fit` has been renamed `epochs`.\n",
            "  \"\"\"Entry point for launching an IPython kernel.\n"
          ],
          "name": "stderr"
        },
        {
          "output_type": "stream",
          "text": [
            "WARNING:tensorflow:From /usr/local/lib/python3.6/dist-packages/keras/backend/tensorflow_backend.py:1033: The name tf.assign_add is deprecated. Please use tf.compat.v1.assign_add instead.\n",
            "\n",
            "WARNING:tensorflow:From /usr/local/lib/python3.6/dist-packages/keras/backend/tensorflow_backend.py:1020: The name tf.assign is deprecated. Please use tf.compat.v1.assign instead.\n",
            "\n",
            "WARNING:tensorflow:From /usr/local/lib/python3.6/dist-packages/keras/backend/tensorflow_backend.py:3005: The name tf.Session is deprecated. Please use tf.compat.v1.Session instead.\n",
            "\n",
            "Train on 5359 samples, validate on 2641 samples\n",
            "Epoch 1/100\n",
            "WARNING:tensorflow:From /usr/local/lib/python3.6/dist-packages/keras/backend/tensorflow_backend.py:190: The name tf.get_default_session is deprecated. Please use tf.compat.v1.get_default_session instead.\n",
            "\n",
            "WARNING:tensorflow:From /usr/local/lib/python3.6/dist-packages/keras/backend/tensorflow_backend.py:197: The name tf.ConfigProto is deprecated. Please use tf.compat.v1.ConfigProto instead.\n",
            "\n",
            "WARNING:tensorflow:From /usr/local/lib/python3.6/dist-packages/keras/backend/tensorflow_backend.py:207: The name tf.global_variables is deprecated. Please use tf.compat.v1.global_variables instead.\n",
            "\n",
            "WARNING:tensorflow:From /usr/local/lib/python3.6/dist-packages/keras/backend/tensorflow_backend.py:216: The name tf.is_variable_initialized is deprecated. Please use tf.compat.v1.is_variable_initialized instead.\n",
            "\n",
            "WARNING:tensorflow:From /usr/local/lib/python3.6/dist-packages/keras/backend/tensorflow_backend.py:223: The name tf.variables_initializer is deprecated. Please use tf.compat.v1.variables_initializer instead.\n",
            "\n",
            "5359/5359 [==============================] - 1s 268us/step - loss: 0.5734 - acc: 0.7477 - val_loss: 0.5133 - val_acc: 0.8012\n",
            "Epoch 2/100\n",
            "5359/5359 [==============================] - 1s 135us/step - loss: 0.4794 - acc: 0.8063 - val_loss: 0.4705 - val_acc: 0.8073\n",
            "Epoch 3/100\n",
            "5359/5359 [==============================] - 1s 152us/step - loss: 0.4462 - acc: 0.8181 - val_loss: 0.4520 - val_acc: 0.8129\n",
            "Epoch 4/100\n",
            "5359/5359 [==============================] - 1s 147us/step - loss: 0.4329 - acc: 0.8255 - val_loss: 0.4424 - val_acc: 0.8133\n",
            "Epoch 5/100\n",
            "5359/5359 [==============================] - 1s 149us/step - loss: 0.4259 - acc: 0.8291 - val_loss: 0.4354 - val_acc: 0.8171\n",
            "Epoch 6/100\n",
            "5359/5359 [==============================] - 1s 144us/step - loss: 0.4201 - acc: 0.8304 - val_loss: 0.4296 - val_acc: 0.8190\n",
            "Epoch 7/100\n",
            "5359/5359 [==============================] - 1s 144us/step - loss: 0.4141 - acc: 0.8345 - val_loss: 0.4234 - val_acc: 0.8220\n",
            "Epoch 8/100\n",
            "5359/5359 [==============================] - 1s 152us/step - loss: 0.4080 - acc: 0.8362 - val_loss: 0.4180 - val_acc: 0.8239\n",
            "Epoch 9/100\n",
            "5359/5359 [==============================] - 1s 146us/step - loss: 0.4017 - acc: 0.8388 - val_loss: 0.4128 - val_acc: 0.8224\n",
            "Epoch 10/100\n",
            "5359/5359 [==============================] - 1s 133us/step - loss: 0.3952 - acc: 0.8427 - val_loss: 0.4048 - val_acc: 0.8285\n",
            "Epoch 11/100\n",
            "5359/5359 [==============================] - 1s 134us/step - loss: 0.3875 - acc: 0.8433 - val_loss: 0.3995 - val_acc: 0.8330\n",
            "Epoch 12/100\n",
            "5359/5359 [==============================] - 1s 131us/step - loss: 0.3802 - acc: 0.8468 - val_loss: 0.3925 - val_acc: 0.8364\n",
            "Epoch 13/100\n",
            "5359/5359 [==============================] - 1s 136us/step - loss: 0.3736 - acc: 0.8487 - val_loss: 0.3884 - val_acc: 0.8368\n",
            "Epoch 14/100\n",
            "5359/5359 [==============================] - 1s 132us/step - loss: 0.3676 - acc: 0.8503 - val_loss: 0.3830 - val_acc: 0.8402\n",
            "Epoch 15/100\n",
            "5359/5359 [==============================] - 1s 150us/step - loss: 0.3616 - acc: 0.8558 - val_loss: 0.3804 - val_acc: 0.8387\n",
            "Epoch 16/100\n",
            "5359/5359 [==============================] - 1s 132us/step - loss: 0.3568 - acc: 0.8572 - val_loss: 0.3732 - val_acc: 0.8448\n",
            "Epoch 17/100\n",
            "5359/5359 [==============================] - 1s 149us/step - loss: 0.3522 - acc: 0.8587 - val_loss: 0.3702 - val_acc: 0.8474\n",
            "Epoch 18/100\n",
            "5359/5359 [==============================] - 1s 135us/step - loss: 0.3480 - acc: 0.8612 - val_loss: 0.3700 - val_acc: 0.8474\n",
            "Epoch 19/100\n",
            "5359/5359 [==============================] - 1s 140us/step - loss: 0.3448 - acc: 0.8608 - val_loss: 0.3665 - val_acc: 0.8531\n",
            "Epoch 20/100\n",
            "5359/5359 [==============================] - 1s 129us/step - loss: 0.3422 - acc: 0.8632 - val_loss: 0.3690 - val_acc: 0.8485\n",
            "Epoch 21/100\n",
            "5359/5359 [==============================] - 1s 139us/step - loss: 0.3404 - acc: 0.8623 - val_loss: 0.3665 - val_acc: 0.8531\n",
            "Epoch 22/100\n",
            "5359/5359 [==============================] - 1s 139us/step - loss: 0.3389 - acc: 0.8642 - val_loss: 0.3650 - val_acc: 0.8489\n",
            "Epoch 23/100\n",
            "5359/5359 [==============================] - 1s 131us/step - loss: 0.3382 - acc: 0.8632 - val_loss: 0.3620 - val_acc: 0.8531\n",
            "Epoch 24/100\n",
            "5359/5359 [==============================] - 1s 134us/step - loss: 0.3370 - acc: 0.8636 - val_loss: 0.3624 - val_acc: 0.8520\n",
            "Epoch 25/100\n",
            "5359/5359 [==============================] - 1s 136us/step - loss: 0.3358 - acc: 0.8649 - val_loss: 0.3634 - val_acc: 0.8542\n",
            "Epoch 26/100\n",
            "5359/5359 [==============================] - 1s 132us/step - loss: 0.3359 - acc: 0.8632 - val_loss: 0.3622 - val_acc: 0.8538\n",
            "Epoch 27/100\n",
            "5359/5359 [==============================] - 1s 140us/step - loss: 0.3350 - acc: 0.8647 - val_loss: 0.3632 - val_acc: 0.8542\n",
            "Epoch 28/100\n",
            "5359/5359 [==============================] - 1s 131us/step - loss: 0.3341 - acc: 0.8640 - val_loss: 0.3616 - val_acc: 0.8527\n",
            "Epoch 29/100\n",
            "5359/5359 [==============================] - 1s 128us/step - loss: 0.3339 - acc: 0.8627 - val_loss: 0.3620 - val_acc: 0.8546\n",
            "Epoch 30/100\n",
            "5359/5359 [==============================] - 1s 132us/step - loss: 0.3334 - acc: 0.8651 - val_loss: 0.3633 - val_acc: 0.8535\n",
            "Epoch 31/100\n",
            "5359/5359 [==============================] - 1s 135us/step - loss: 0.3333 - acc: 0.8628 - val_loss: 0.3605 - val_acc: 0.8546\n",
            "Epoch 32/100\n",
            "5359/5359 [==============================] - 1s 135us/step - loss: 0.3331 - acc: 0.8642 - val_loss: 0.3608 - val_acc: 0.8573\n",
            "Epoch 33/100\n",
            "5359/5359 [==============================] - 1s 132us/step - loss: 0.3326 - acc: 0.8647 - val_loss: 0.3621 - val_acc: 0.8546\n",
            "Epoch 34/100\n",
            "5359/5359 [==============================] - 1s 133us/step - loss: 0.3324 - acc: 0.8656 - val_loss: 0.3617 - val_acc: 0.8535\n",
            "Epoch 35/100\n",
            "5359/5359 [==============================] - 1s 131us/step - loss: 0.3326 - acc: 0.8630 - val_loss: 0.3624 - val_acc: 0.8535\n",
            "Epoch 36/100\n",
            "5359/5359 [==============================] - 1s 131us/step - loss: 0.3322 - acc: 0.8645 - val_loss: 0.3614 - val_acc: 0.8554\n",
            "Epoch 37/100\n",
            "5359/5359 [==============================] - 1s 143us/step - loss: 0.3323 - acc: 0.8647 - val_loss: 0.3597 - val_acc: 0.8565\n",
            "Epoch 38/100\n",
            "5359/5359 [==============================] - 1s 138us/step - loss: 0.3322 - acc: 0.8653 - val_loss: 0.3621 - val_acc: 0.8542\n",
            "Epoch 39/100\n",
            "5359/5359 [==============================] - 1s 133us/step - loss: 0.3320 - acc: 0.8645 - val_loss: 0.3609 - val_acc: 0.8550\n",
            "Epoch 40/100\n",
            "5359/5359 [==============================] - 1s 136us/step - loss: 0.3312 - acc: 0.8660 - val_loss: 0.3636 - val_acc: 0.8542\n",
            "Epoch 41/100\n",
            "5359/5359 [==============================] - 1s 135us/step - loss: 0.3312 - acc: 0.8642 - val_loss: 0.3628 - val_acc: 0.8538\n",
            "Epoch 42/100\n",
            "5359/5359 [==============================] - 1s 131us/step - loss: 0.3313 - acc: 0.8664 - val_loss: 0.3622 - val_acc: 0.8557\n",
            "Epoch 43/100\n",
            "5359/5359 [==============================] - 1s 133us/step - loss: 0.3307 - acc: 0.8632 - val_loss: 0.3656 - val_acc: 0.8542\n",
            "Epoch 44/100\n",
            "5359/5359 [==============================] - 1s 133us/step - loss: 0.3316 - acc: 0.8653 - val_loss: 0.3610 - val_acc: 0.8561\n",
            "Epoch 45/100\n",
            "5359/5359 [==============================] - 1s 127us/step - loss: 0.3310 - acc: 0.8668 - val_loss: 0.3623 - val_acc: 0.8523\n",
            "Epoch 46/100\n",
            "5359/5359 [==============================] - 1s 133us/step - loss: 0.3308 - acc: 0.8636 - val_loss: 0.3620 - val_acc: 0.8527\n",
            "Epoch 47/100\n",
            "5359/5359 [==============================] - 1s 132us/step - loss: 0.3303 - acc: 0.8662 - val_loss: 0.3624 - val_acc: 0.8569\n",
            "Epoch 48/100\n",
            "5359/5359 [==============================] - 1s 131us/step - loss: 0.3305 - acc: 0.8636 - val_loss: 0.3639 - val_acc: 0.8531\n",
            "Epoch 49/100\n",
            "5359/5359 [==============================] - 1s 137us/step - loss: 0.3302 - acc: 0.8655 - val_loss: 0.3608 - val_acc: 0.8591\n",
            "Epoch 50/100\n",
            "5359/5359 [==============================] - 1s 133us/step - loss: 0.3310 - acc: 0.8638 - val_loss: 0.3626 - val_acc: 0.8561\n",
            "Epoch 51/100\n",
            "5359/5359 [==============================] - 1s 136us/step - loss: 0.3306 - acc: 0.8642 - val_loss: 0.3621 - val_acc: 0.8542\n",
            "Epoch 52/100\n",
            "5359/5359 [==============================] - 1s 132us/step - loss: 0.3307 - acc: 0.8653 - val_loss: 0.3627 - val_acc: 0.8538\n",
            "Epoch 53/100\n",
            "5359/5359 [==============================] - 1s 138us/step - loss: 0.3303 - acc: 0.8640 - val_loss: 0.3627 - val_acc: 0.8535\n",
            "Epoch 54/100\n",
            "5359/5359 [==============================] - 1s 133us/step - loss: 0.3304 - acc: 0.8655 - val_loss: 0.3614 - val_acc: 0.8557\n",
            "Epoch 55/100\n",
            "5359/5359 [==============================] - 1s 131us/step - loss: 0.3298 - acc: 0.8653 - val_loss: 0.3633 - val_acc: 0.8554\n",
            "Epoch 56/100\n",
            "5359/5359 [==============================] - 1s 136us/step - loss: 0.3296 - acc: 0.8640 - val_loss: 0.3618 - val_acc: 0.8580\n",
            "Epoch 57/100\n",
            "5359/5359 [==============================] - 1s 130us/step - loss: 0.3297 - acc: 0.8630 - val_loss: 0.3652 - val_acc: 0.8531\n",
            "Epoch 58/100\n",
            "5359/5359 [==============================] - 1s 136us/step - loss: 0.3296 - acc: 0.8627 - val_loss: 0.3628 - val_acc: 0.8561\n",
            "Epoch 59/100\n",
            "5359/5359 [==============================] - 1s 143us/step - loss: 0.3296 - acc: 0.8649 - val_loss: 0.3637 - val_acc: 0.8523\n",
            "Epoch 60/100\n",
            "5359/5359 [==============================] - 1s 136us/step - loss: 0.3292 - acc: 0.8627 - val_loss: 0.3614 - val_acc: 0.8565\n",
            "Epoch 61/100\n",
            "5359/5359 [==============================] - 1s 133us/step - loss: 0.3299 - acc: 0.8675 - val_loss: 0.3632 - val_acc: 0.8554\n",
            "Epoch 62/100\n",
            "5359/5359 [==============================] - 1s 139us/step - loss: 0.3296 - acc: 0.8632 - val_loss: 0.3626 - val_acc: 0.8550\n",
            "Epoch 63/100\n",
            "5359/5359 [==============================] - 1s 132us/step - loss: 0.3290 - acc: 0.8623 - val_loss: 0.3627 - val_acc: 0.8569\n",
            "Epoch 64/100\n",
            "5359/5359 [==============================] - 1s 135us/step - loss: 0.3296 - acc: 0.8656 - val_loss: 0.3634 - val_acc: 0.8561\n",
            "Epoch 65/100\n",
            "5359/5359 [==============================] - 1s 136us/step - loss: 0.3290 - acc: 0.8649 - val_loss: 0.3623 - val_acc: 0.8580\n",
            "Epoch 66/100\n",
            "5359/5359 [==============================] - 1s 140us/step - loss: 0.3291 - acc: 0.8636 - val_loss: 0.3634 - val_acc: 0.8546\n",
            "Epoch 67/100\n",
            "5359/5359 [==============================] - 1s 141us/step - loss: 0.3286 - acc: 0.8645 - val_loss: 0.3635 - val_acc: 0.8538\n",
            "Epoch 68/100\n",
            "5359/5359 [==============================] - 1s 136us/step - loss: 0.3287 - acc: 0.8662 - val_loss: 0.3625 - val_acc: 0.8554\n",
            "Epoch 69/100\n",
            "5359/5359 [==============================] - 1s 135us/step - loss: 0.3290 - acc: 0.8662 - val_loss: 0.3647 - val_acc: 0.8550\n",
            "Epoch 70/100\n",
            "5359/5359 [==============================] - 1s 139us/step - loss: 0.3288 - acc: 0.8636 - val_loss: 0.3647 - val_acc: 0.8550\n",
            "Epoch 71/100\n",
            "5359/5359 [==============================] - 1s 138us/step - loss: 0.3286 - acc: 0.8670 - val_loss: 0.3629 - val_acc: 0.8542\n",
            "Epoch 72/100\n",
            "5359/5359 [==============================] - 1s 133us/step - loss: 0.3285 - acc: 0.8662 - val_loss: 0.3638 - val_acc: 0.8554\n",
            "Epoch 73/100\n",
            "5359/5359 [==============================] - 1s 132us/step - loss: 0.3283 - acc: 0.8649 - val_loss: 0.3621 - val_acc: 0.8546\n",
            "Epoch 74/100\n",
            "5359/5359 [==============================] - 1s 136us/step - loss: 0.3281 - acc: 0.8666 - val_loss: 0.3629 - val_acc: 0.8520\n",
            "Epoch 75/100\n",
            "5359/5359 [==============================] - 1s 136us/step - loss: 0.3277 - acc: 0.8638 - val_loss: 0.3669 - val_acc: 0.8535\n",
            "Epoch 76/100\n",
            "5359/5359 [==============================] - 1s 136us/step - loss: 0.3284 - acc: 0.8638 - val_loss: 0.3631 - val_acc: 0.8580\n",
            "Epoch 77/100\n",
            "5359/5359 [==============================] - 1s 133us/step - loss: 0.3282 - acc: 0.8656 - val_loss: 0.3645 - val_acc: 0.8538\n",
            "Epoch 78/100\n",
            "5359/5359 [==============================] - 1s 132us/step - loss: 0.3282 - acc: 0.8642 - val_loss: 0.3641 - val_acc: 0.8565\n",
            "Epoch 79/100\n",
            "5359/5359 [==============================] - 1s 132us/step - loss: 0.3279 - acc: 0.8671 - val_loss: 0.3633 - val_acc: 0.8546\n",
            "Epoch 80/100\n",
            "5359/5359 [==============================] - 1s 137us/step - loss: 0.3280 - acc: 0.8668 - val_loss: 0.3647 - val_acc: 0.8542\n",
            "Epoch 81/100\n",
            "5359/5359 [==============================] - 1s 132us/step - loss: 0.3276 - acc: 0.8645 - val_loss: 0.3630 - val_acc: 0.8546\n",
            "Epoch 82/100\n",
            "5359/5359 [==============================] - 1s 137us/step - loss: 0.3281 - acc: 0.8658 - val_loss: 0.3637 - val_acc: 0.8573\n",
            "Epoch 83/100\n",
            "5359/5359 [==============================] - 1s 134us/step - loss: 0.3278 - acc: 0.8675 - val_loss: 0.3635 - val_acc: 0.8554\n",
            "Epoch 84/100\n",
            "5359/5359 [==============================] - 1s 136us/step - loss: 0.3280 - acc: 0.8670 - val_loss: 0.3639 - val_acc: 0.8550\n",
            "Epoch 85/100\n",
            "5359/5359 [==============================] - 1s 136us/step - loss: 0.3280 - acc: 0.8677 - val_loss: 0.3643 - val_acc: 0.8546\n",
            "Epoch 86/100\n",
            "5359/5359 [==============================] - 1s 130us/step - loss: 0.3274 - acc: 0.8658 - val_loss: 0.3658 - val_acc: 0.8538\n",
            "Epoch 87/100\n",
            "5359/5359 [==============================] - 1s 130us/step - loss: 0.3277 - acc: 0.8666 - val_loss: 0.3645 - val_acc: 0.8546\n",
            "Epoch 88/100\n",
            "5359/5359 [==============================] - 1s 131us/step - loss: 0.3275 - acc: 0.8655 - val_loss: 0.3633 - val_acc: 0.8565\n",
            "Epoch 89/100\n",
            "5359/5359 [==============================] - 1s 139us/step - loss: 0.3278 - acc: 0.8660 - val_loss: 0.3641 - val_acc: 0.8569\n",
            "Epoch 90/100\n",
            "5359/5359 [==============================] - 1s 141us/step - loss: 0.3272 - acc: 0.8684 - val_loss: 0.3647 - val_acc: 0.8538\n",
            "Epoch 91/100\n",
            "5359/5359 [==============================] - 1s 132us/step - loss: 0.3278 - acc: 0.8651 - val_loss: 0.3626 - val_acc: 0.8588\n",
            "Epoch 92/100\n",
            "5359/5359 [==============================] - 1s 130us/step - loss: 0.3275 - acc: 0.8662 - val_loss: 0.3654 - val_acc: 0.8538\n",
            "Epoch 93/100\n",
            "5359/5359 [==============================] - 1s 134us/step - loss: 0.3274 - acc: 0.8655 - val_loss: 0.3636 - val_acc: 0.8542\n",
            "Epoch 94/100\n",
            "5359/5359 [==============================] - 1s 138us/step - loss: 0.3272 - acc: 0.8662 - val_loss: 0.3631 - val_acc: 0.8554\n",
            "Epoch 95/100\n",
            "5359/5359 [==============================] - 1s 134us/step - loss: 0.3276 - acc: 0.8658 - val_loss: 0.3625 - val_acc: 0.8554\n",
            "Epoch 96/100\n",
            "5359/5359 [==============================] - 1s 130us/step - loss: 0.3268 - acc: 0.8660 - val_loss: 0.3639 - val_acc: 0.8550\n",
            "Epoch 97/100\n",
            "5359/5359 [==============================] - 1s 138us/step - loss: 0.3272 - acc: 0.8688 - val_loss: 0.3633 - val_acc: 0.8554\n",
            "Epoch 98/100\n",
            "5359/5359 [==============================] - 1s 135us/step - loss: 0.3271 - acc: 0.8675 - val_loss: 0.3650 - val_acc: 0.8550\n",
            "Epoch 99/100\n",
            "5359/5359 [==============================] - 1s 131us/step - loss: 0.3273 - acc: 0.8649 - val_loss: 0.3623 - val_acc: 0.8584\n",
            "Epoch 100/100\n",
            "5359/5359 [==============================] - 1s 132us/step - loss: 0.3274 - acc: 0.8662 - val_loss: 0.3634 - val_acc: 0.8535\n"
          ],
          "name": "stdout"
        }
      ]
    },
    {
      "cell_type": "code",
      "metadata": {
        "id": "Lhly6OcGaUkm",
        "colab_type": "code",
        "colab": {}
      },
      "source": [
        "predictions = classifier.predict(X_test)\n",
        "y_pred = (predictions>0.5)\n",
        "from sklearn.metrics import confusion_matrix\n",
        "cm = confusion_matrix(y_test, y_pred)"
      ],
      "execution_count": 0,
      "outputs": []
    },
    {
      "cell_type": "code",
      "metadata": {
        "id": "3Hr9B5gIbUZr",
        "colab_type": "code",
        "colab": {
          "base_uri": "https://localhost:8080/",
          "height": 50
        },
        "outputId": "927ef9cf-4f85-4cbc-8313-fac452ec84e4"
      },
      "source": [
        "cm"
      ],
      "execution_count": 40,
      "outputs": [
        {
          "output_type": "execute_result",
          "data": {
            "text/plain": [
              "array([[1515,   80],\n",
              "       [ 198,  207]])"
            ]
          },
          "metadata": {
            "tags": []
          },
          "execution_count": 40
        }
      ]
    },
    {
      "cell_type": "code",
      "metadata": {
        "id": "IiixQ083bVNY",
        "colab_type": "code",
        "colab": {}
      },
      "source": [
        "from sklearn.metrics import accuracy_score\n",
        "score = accuracy_score(y_pred, y_test)"
      ],
      "execution_count": 0,
      "outputs": []
    },
    {
      "cell_type": "code",
      "metadata": {
        "id": "tXGJnvxDbfzu",
        "colab_type": "code",
        "colab": {
          "base_uri": "https://localhost:8080/",
          "height": 34
        },
        "outputId": "76188029-035a-497b-c412-7f5678fa4ea4"
      },
      "source": [
        "score"
      ],
      "execution_count": 42,
      "outputs": [
        {
          "output_type": "execute_result",
          "data": {
            "text/plain": [
              "0.861"
            ]
          },
          "metadata": {
            "tags": []
          },
          "execution_count": 42
        }
      ]
    },
    {
      "cell_type": "code",
      "metadata": {
        "id": "JlzyVXGVbg93",
        "colab_type": "code",
        "colab": {
          "base_uri": "https://localhost:8080/",
          "height": 34
        },
        "outputId": "57348ab7-e9f6-4da0-ab1d-fc8d96b90458"
      },
      "source": [
        "print(model_history.history.keys())"
      ],
      "execution_count": 43,
      "outputs": [
        {
          "output_type": "stream",
          "text": [
            "dict_keys(['val_loss', 'val_acc', 'loss', 'acc'])\n"
          ],
          "name": "stdout"
        }
      ]
    },
    {
      "cell_type": "code",
      "metadata": {
        "id": "tyGX1WKliJIz",
        "colab_type": "code",
        "colab": {
          "base_uri": "https://localhost:8080/",
          "height": 295
        },
        "outputId": "e0a8580b-004f-4fd6-c940-488bf6136de6"
      },
      "source": [
        "plt.plot(model_history.history['acc'])\n",
        "plt.plot(model_history.history['val_acc'])\n",
        "plt.title('model accuracy')\n",
        "plt.xlabel('epoch')\n",
        "plt.ylabel('loss')\n",
        "plt.legend(['train', 'test'], loc = 'lower right')\n",
        "plt.show()"
      ],
      "execution_count": 48,
      "outputs": [
        {
          "output_type": "display_data",
          "data": {
            "image/png": "[encoded data removed]",
            "text/plain": [
              "<Figure size 432x288 with 1 Axes>"
            ]
          },
          "metadata": {
            "tags": []
          }
        }
      ]
    },
    {
      "cell_type": "code",
      "metadata": {
        "id": "sZVeQSejje2F",
        "colab_type": "code",
        "colab": {}
      },
      "source": [
        ""
      ],
      "execution_count": 0,
      "outputs": []
    }
  ]
}